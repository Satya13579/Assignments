{
 "cells": [
  {
   "attachments": {},
   "cell_type": "markdown",
   "metadata": {
    "id": "rhR-ZUkwJrFn"
   },
   "source": [
    "## Problem Statement \n",
    "\n",
    "You need to build a model that is able to classify customer complaints based on the products/services. By doing so, you can segregate these tickets into their relevant categories and, therefore, help in the quick resolution of the issue.\n",
    "\n",
    "You will be doing topic modelling on the <b>.json</b> data provided by the company. Since this data is not labelled, you need to apply NMF to analyse patterns and classify tickets into the following five clusters based on their products/services:\n",
    "\n",
    "* Credit card / Prepaid card\n",
    "\n",
    "* Bank account services\n",
    "\n",
    "* Theft/Dispute reporting\n",
    "\n",
    "* Mortgages/loans\n",
    "\n",
    "* Others \n",
    "\n",
    "\n",
    "With the help of topic modelling, you will be able to map each ticket onto its respective department/category. You can then use this data to train any supervised model such as logistic regression, decision tree or random forest. Using this trained model, you can classify any new customer complaint support ticket into its relevant department."
   ]
  },
  {
   "attachments": {},
   "cell_type": "markdown",
   "metadata": {},
   "source": [
    "## Pipelines that needs to be performed:\n",
    "\n",
    "You need to perform the following eight major tasks to complete the assignment:\n",
    "\n",
    "1.  Data loading\n",
    "\n",
    "2. Text preprocessing\n",
    "\n",
    "3. Exploratory data analysis (EDA)\n",
    "\n",
    "4. Feature extraction\n",
    "\n",
    "5. Topic modelling \n",
    "\n",
    "6. Model building using supervised learning\n",
    "\n",
    "7. Model training and evaluation\n",
    "\n",
    "8. Model inference"
   ]
  },
  {
   "attachments": {},
   "cell_type": "markdown",
   "metadata": {
    "id": "JuLFIymAL58u"
   },
   "source": [
    "## Importing the necessary libraries"
   ]
  },
  {
   "cell_type": "code",
   "execution_count": 1,
   "metadata": {
    "execution": {
     "iopub.execute_input": "2022-03-23T02:52:51.461586Z",
     "iopub.status.busy": "2022-03-23T02:52:51.461189Z",
     "iopub.status.idle": "2022-03-23T02:53:04.204965Z",
     "shell.execute_reply": "2022-03-23T02:53:04.203767Z",
     "shell.execute_reply.started": "2022-03-23T02:52:51.461475Z"
    },
    "id": "S4bOGDUtyKN8",
    "outputId": "ea13d6d1-8080-49a9-f45f-a82e42a8d56b"
   },
   "outputs": [],
   "source": [
    "#pip install swifter"
   ]
  },
  {
   "cell_type": "code",
   "execution_count": 2,
   "metadata": {
    "execution": {
     "iopub.execute_input": "2022-03-23T02:53:04.207067Z",
     "iopub.status.busy": "2022-03-23T02:53:04.206840Z",
     "iopub.status.idle": "2022-03-23T02:53:18.079157Z",
     "shell.execute_reply": "2022-03-23T02:53:18.078374Z",
     "shell.execute_reply.started": "2022-03-23T02:53:04.207037Z"
    },
    "id": "O-Q9pqrcJrFr"
   },
   "outputs": [],
   "source": [
    "import json \n",
    "import numpy as np\n",
    "import pandas as pd\n",
    "import re, nltk, spacy, string\n",
    "import en_core_web_sm\n",
    "nlp = en_core_web_sm.load(disable=['parser','ner'])\n",
    "import seaborn as sns\n",
    "import matplotlib.pyplot as plt\n",
    "from wordcloud import WordCloud, STOPWORDS\n",
    "from collections import Counter\n",
    "import swifter\n",
    "from sklearn.feature_extraction.text import TfidfTransformer\n",
    "\n",
    "%matplotlib inline\n",
    "\n",
    "from plotly.offline import plot\n",
    "import plotly.graph_objects as go\n",
    "import plotly.express as px\n",
    "\n",
    "from sklearn.feature_extraction.text import CountVectorizer, TfidfVectorizer\n",
    "from pprint import pprint\n",
    "\n",
    "from nltk.stem import WordNetLemmatizer\n",
    "from nltk.tokenize import word_tokenize\n",
    "from nltk.corpus import stopwords\n",
    "\n",
    "import warnings\n",
    "warnings.filterwarnings('ignore')"
   ]
  },
  {
   "attachments": {},
   "cell_type": "markdown",
   "metadata": {
    "id": "KtRLCsNVJrFt"
   },
   "source": [
    "## Loading the data\n",
    "\n",
    "The data is in JSON format and we need to convert it to a dataframe."
   ]
  },
  {
   "cell_type": "code",
   "execution_count": 3,
   "metadata": {
    "execution": {
     "iopub.execute_input": "2022-03-23T02:54:07.748433Z",
     "iopub.status.busy": "2022-03-23T02:54:07.748080Z",
     "iopub.status.idle": "2022-03-23T02:54:12.805145Z",
     "shell.execute_reply": "2022-03-23T02:54:12.804453Z",
     "shell.execute_reply.started": "2022-03-23T02:54:07.748398Z"
    },
    "id": "puVzIf_iJrFt"
   },
   "outputs": [],
   "source": [
    "# Opening JSON file \n",
    "f = open('C:\\\\Users\\\\simran.tyagi\\\\Downloads\\\\complaints-2021-05-14_08_16.json')\n",
    " \n",
    "data = json.load(f)\n",
    "df=pd.json_normalize(data)"
   ]
  },
  {
   "attachments": {},
   "cell_type": "markdown",
   "metadata": {
    "id": "_xYpH-sAJrFu"
   },
   "source": [
    "## Data preparation"
   ]
  },
  {
   "cell_type": "code",
   "execution_count": 4,
   "metadata": {
    "execution": {
     "iopub.execute_input": "2022-03-23T02:54:19.045862Z",
     "iopub.status.busy": "2022-03-23T02:54:19.045556Z",
     "iopub.status.idle": "2022-03-23T02:54:19.083151Z",
     "shell.execute_reply": "2022-03-23T02:54:19.082299Z",
     "shell.execute_reply.started": "2022-03-23T02:54:19.045829Z"
    },
    "id": "Lf8ufHH5JrFu",
    "outputId": "c49c9d02-e8b8-4a4d-8cbf-ccb444650c11"
   },
   "outputs": [
    {
     "data": {
      "text/html": [
       "<div>\n",
       "<style scoped>\n",
       "    .dataframe tbody tr th:only-of-type {\n",
       "        vertical-align: middle;\n",
       "    }\n",
       "\n",
       "    .dataframe tbody tr th {\n",
       "        vertical-align: top;\n",
       "    }\n",
       "\n",
       "    .dataframe thead th {\n",
       "        text-align: right;\n",
       "    }\n",
       "</style>\n",
       "<table border=\"1\" class=\"dataframe\">\n",
       "  <thead>\n",
       "    <tr style=\"text-align: right;\">\n",
       "      <th></th>\n",
       "      <th>_index</th>\n",
       "      <th>_type</th>\n",
       "      <th>_id</th>\n",
       "      <th>_score</th>\n",
       "      <th>_source.tags</th>\n",
       "      <th>_source.zip_code</th>\n",
       "      <th>_source.complaint_id</th>\n",
       "      <th>_source.issue</th>\n",
       "      <th>_source.date_received</th>\n",
       "      <th>_source.state</th>\n",
       "      <th>...</th>\n",
       "      <th>_source.company_response</th>\n",
       "      <th>_source.company</th>\n",
       "      <th>_source.submitted_via</th>\n",
       "      <th>_source.date_sent_to_company</th>\n",
       "      <th>_source.company_public_response</th>\n",
       "      <th>_source.sub_product</th>\n",
       "      <th>_source.timely</th>\n",
       "      <th>_source.complaint_what_happened</th>\n",
       "      <th>_source.sub_issue</th>\n",
       "      <th>_source.consumer_consent_provided</th>\n",
       "    </tr>\n",
       "  </thead>\n",
       "  <tbody>\n",
       "    <tr>\n",
       "      <th>0</th>\n",
       "      <td>complaint-public-v2</td>\n",
       "      <td>complaint</td>\n",
       "      <td>3211475</td>\n",
       "      <td>0.0</td>\n",
       "      <td>None</td>\n",
       "      <td>90301</td>\n",
       "      <td>3211475</td>\n",
       "      <td>Attempts to collect debt not owed</td>\n",
       "      <td>2019-04-13T12:00:00-05:00</td>\n",
       "      <td>CA</td>\n",
       "      <td>...</td>\n",
       "      <td>Closed with explanation</td>\n",
       "      <td>JPMORGAN CHASE &amp; CO.</td>\n",
       "      <td>Web</td>\n",
       "      <td>2019-04-13T12:00:00-05:00</td>\n",
       "      <td>None</td>\n",
       "      <td>Credit card debt</td>\n",
       "      <td>Yes</td>\n",
       "      <td></td>\n",
       "      <td>Debt is not yours</td>\n",
       "      <td>Consent not provided</td>\n",
       "    </tr>\n",
       "    <tr>\n",
       "      <th>1</th>\n",
       "      <td>complaint-public-v2</td>\n",
       "      <td>complaint</td>\n",
       "      <td>3229299</td>\n",
       "      <td>0.0</td>\n",
       "      <td>Servicemember</td>\n",
       "      <td>319XX</td>\n",
       "      <td>3229299</td>\n",
       "      <td>Written notification about debt</td>\n",
       "      <td>2019-05-01T12:00:00-05:00</td>\n",
       "      <td>GA</td>\n",
       "      <td>...</td>\n",
       "      <td>Closed with explanation</td>\n",
       "      <td>JPMORGAN CHASE &amp; CO.</td>\n",
       "      <td>Web</td>\n",
       "      <td>2019-05-01T12:00:00-05:00</td>\n",
       "      <td>None</td>\n",
       "      <td>Credit card debt</td>\n",
       "      <td>Yes</td>\n",
       "      <td>Good morning my name is XXXX XXXX and I apprec...</td>\n",
       "      <td>Didn't receive enough information to verify debt</td>\n",
       "      <td>Consent provided</td>\n",
       "    </tr>\n",
       "    <tr>\n",
       "      <th>2</th>\n",
       "      <td>complaint-public-v2</td>\n",
       "      <td>complaint</td>\n",
       "      <td>3199379</td>\n",
       "      <td>0.0</td>\n",
       "      <td>None</td>\n",
       "      <td>77069</td>\n",
       "      <td>3199379</td>\n",
       "      <td>Other features, terms, or problems</td>\n",
       "      <td>2019-04-02T12:00:00-05:00</td>\n",
       "      <td>TX</td>\n",
       "      <td>...</td>\n",
       "      <td>Closed with explanation</td>\n",
       "      <td>JPMORGAN CHASE &amp; CO.</td>\n",
       "      <td>Web</td>\n",
       "      <td>2019-04-02T12:00:00-05:00</td>\n",
       "      <td>None</td>\n",
       "      <td>General-purpose credit card or charge card</td>\n",
       "      <td>Yes</td>\n",
       "      <td>I upgraded my XXXX XXXX card in XX/XX/2018 and...</td>\n",
       "      <td>Problem with rewards from credit card</td>\n",
       "      <td>Consent provided</td>\n",
       "    </tr>\n",
       "    <tr>\n",
       "      <th>3</th>\n",
       "      <td>complaint-public-v2</td>\n",
       "      <td>complaint</td>\n",
       "      <td>2673060</td>\n",
       "      <td>0.0</td>\n",
       "      <td>None</td>\n",
       "      <td>48066</td>\n",
       "      <td>2673060</td>\n",
       "      <td>Trouble during payment process</td>\n",
       "      <td>2017-09-13T12:00:00-05:00</td>\n",
       "      <td>MI</td>\n",
       "      <td>...</td>\n",
       "      <td>Closed with explanation</td>\n",
       "      <td>JPMORGAN CHASE &amp; CO.</td>\n",
       "      <td>Web</td>\n",
       "      <td>2017-09-14T12:00:00-05:00</td>\n",
       "      <td>None</td>\n",
       "      <td>Conventional home mortgage</td>\n",
       "      <td>Yes</td>\n",
       "      <td></td>\n",
       "      <td>None</td>\n",
       "      <td>Consent not provided</td>\n",
       "    </tr>\n",
       "    <tr>\n",
       "      <th>4</th>\n",
       "      <td>complaint-public-v2</td>\n",
       "      <td>complaint</td>\n",
       "      <td>3203545</td>\n",
       "      <td>0.0</td>\n",
       "      <td>None</td>\n",
       "      <td>10473</td>\n",
       "      <td>3203545</td>\n",
       "      <td>Fees or interest</td>\n",
       "      <td>2019-04-05T12:00:00-05:00</td>\n",
       "      <td>NY</td>\n",
       "      <td>...</td>\n",
       "      <td>Closed with explanation</td>\n",
       "      <td>JPMORGAN CHASE &amp; CO.</td>\n",
       "      <td>Referral</td>\n",
       "      <td>2019-04-05T12:00:00-05:00</td>\n",
       "      <td>None</td>\n",
       "      <td>General-purpose credit card or charge card</td>\n",
       "      <td>Yes</td>\n",
       "      <td></td>\n",
       "      <td>Charged too much interest</td>\n",
       "      <td>N/A</td>\n",
       "    </tr>\n",
       "  </tbody>\n",
       "</table>\n",
       "<p>5 rows × 22 columns</p>\n",
       "</div>"
      ],
      "text/plain": [
       "                _index      _type      _id  _score   _source.tags  \\\n",
       "0  complaint-public-v2  complaint  3211475     0.0           None   \n",
       "1  complaint-public-v2  complaint  3229299     0.0  Servicemember   \n",
       "2  complaint-public-v2  complaint  3199379     0.0           None   \n",
       "3  complaint-public-v2  complaint  2673060     0.0           None   \n",
       "4  complaint-public-v2  complaint  3203545     0.0           None   \n",
       "\n",
       "  _source.zip_code _source.complaint_id                       _source.issue  \\\n",
       "0            90301              3211475   Attempts to collect debt not owed   \n",
       "1            319XX              3229299     Written notification about debt   \n",
       "2            77069              3199379  Other features, terms, or problems   \n",
       "3            48066              2673060      Trouble during payment process   \n",
       "4            10473              3203545                    Fees or interest   \n",
       "\n",
       "       _source.date_received _source.state  ... _source.company_response  \\\n",
       "0  2019-04-13T12:00:00-05:00            CA  ...  Closed with explanation   \n",
       "1  2019-05-01T12:00:00-05:00            GA  ...  Closed with explanation   \n",
       "2  2019-04-02T12:00:00-05:00            TX  ...  Closed with explanation   \n",
       "3  2017-09-13T12:00:00-05:00            MI  ...  Closed with explanation   \n",
       "4  2019-04-05T12:00:00-05:00            NY  ...  Closed with explanation   \n",
       "\n",
       "        _source.company _source.submitted_via _source.date_sent_to_company  \\\n",
       "0  JPMORGAN CHASE & CO.                   Web    2019-04-13T12:00:00-05:00   \n",
       "1  JPMORGAN CHASE & CO.                   Web    2019-05-01T12:00:00-05:00   \n",
       "2  JPMORGAN CHASE & CO.                   Web    2019-04-02T12:00:00-05:00   \n",
       "3  JPMORGAN CHASE & CO.                   Web    2017-09-14T12:00:00-05:00   \n",
       "4  JPMORGAN CHASE & CO.              Referral    2019-04-05T12:00:00-05:00   \n",
       "\n",
       "  _source.company_public_response                         _source.sub_product  \\\n",
       "0                            None                            Credit card debt   \n",
       "1                            None                            Credit card debt   \n",
       "2                            None  General-purpose credit card or charge card   \n",
       "3                            None                  Conventional home mortgage   \n",
       "4                            None  General-purpose credit card or charge card   \n",
       "\n",
       "  _source.timely                    _source.complaint_what_happened  \\\n",
       "0            Yes                                                      \n",
       "1            Yes  Good morning my name is XXXX XXXX and I apprec...   \n",
       "2            Yes  I upgraded my XXXX XXXX card in XX/XX/2018 and...   \n",
       "3            Yes                                                      \n",
       "4            Yes                                                      \n",
       "\n",
       "                                  _source.sub_issue  \\\n",
       "0                                 Debt is not yours   \n",
       "1  Didn't receive enough information to verify debt   \n",
       "2             Problem with rewards from credit card   \n",
       "3                                              None   \n",
       "4                         Charged too much interest   \n",
       "\n",
       "  _source.consumer_consent_provided  \n",
       "0              Consent not provided  \n",
       "1                  Consent provided  \n",
       "2                  Consent provided  \n",
       "3              Consent not provided  \n",
       "4                               N/A  \n",
       "\n",
       "[5 rows x 22 columns]"
      ]
     },
     "execution_count": 4,
     "metadata": {},
     "output_type": "execute_result"
    }
   ],
   "source": [
    "# Inspect the dataframe to understand the given data.\n",
    "df.head()"
   ]
  },
  {
   "cell_type": "code",
   "execution_count": 5,
   "metadata": {
    "execution": {
     "iopub.execute_input": "2022-03-23T02:54:20.179938Z",
     "iopub.status.busy": "2022-03-23T02:54:20.179600Z",
     "iopub.status.idle": "2022-03-23T02:54:20.186043Z",
     "shell.execute_reply": "2022-03-23T02:54:20.185403Z",
     "shell.execute_reply.started": "2022-03-23T02:54:20.179903Z"
    },
    "id": "Dwcty-wmJrFw",
    "outputId": "9b42f3b3-8e13-42b3-87e5-7606975fd8b7"
   },
   "outputs": [
    {
     "data": {
      "text/plain": [
       "Index(['_index', '_type', '_id', '_score', '_source.tags', '_source.zip_code',\n",
       "       '_source.complaint_id', '_source.issue', '_source.date_received',\n",
       "       '_source.state', '_source.consumer_disputed', '_source.product',\n",
       "       '_source.company_response', '_source.company', '_source.submitted_via',\n",
       "       '_source.date_sent_to_company', '_source.company_public_response',\n",
       "       '_source.sub_product', '_source.timely',\n",
       "       '_source.complaint_what_happened', '_source.sub_issue',\n",
       "       '_source.consumer_consent_provided'],\n",
       "      dtype='object')"
      ]
     },
     "execution_count": 5,
     "metadata": {},
     "output_type": "execute_result"
    }
   ],
   "source": [
    "#print the column names\n",
    "df.columns"
   ]
  },
  {
   "cell_type": "code",
   "execution_count": 6,
   "metadata": {
    "execution": {
     "iopub.execute_input": "2022-03-23T02:54:21.028200Z",
     "iopub.status.busy": "2022-03-23T02:54:21.027727Z",
     "iopub.status.idle": "2022-03-23T02:54:21.036767Z",
     "shell.execute_reply": "2022-03-23T02:54:21.035796Z",
     "shell.execute_reply.started": "2022-03-23T02:54:21.028148Z"
    },
    "id": "FYCtKXD1JrFw"
   },
   "outputs": [],
   "source": [
    "#Assign new column names\n",
    "df.rename(columns={'_source.complaint_what_happened':'complaints', '_source.product':'products_tag'}, inplace=True)"
   ]
  },
  {
   "cell_type": "code",
   "execution_count": 7,
   "metadata": {
    "execution": {
     "iopub.execute_input": "2022-03-23T02:54:22.042460Z",
     "iopub.status.busy": "2022-03-23T02:54:22.042099Z",
     "iopub.status.idle": "2022-03-23T02:54:22.048532Z",
     "shell.execute_reply": "2022-03-23T02:54:22.047924Z",
     "shell.execute_reply.started": "2022-03-23T02:54:22.042416Z"
    },
    "id": "B5CDC0rNyKOB",
    "outputId": "7a59a04c-c016-4e24-8dbe-f876ae79631a"
   },
   "outputs": [
    {
     "data": {
      "text/plain": [
       "Index(['_index', '_type', '_id', '_score', '_source.tags', '_source.zip_code',\n",
       "       '_source.complaint_id', '_source.issue', '_source.date_received',\n",
       "       '_source.state', '_source.consumer_disputed', 'products_tag',\n",
       "       '_source.company_response', '_source.company', '_source.submitted_via',\n",
       "       '_source.date_sent_to_company', '_source.company_public_response',\n",
       "       '_source.sub_product', '_source.timely', 'complaints',\n",
       "       '_source.sub_issue', '_source.consumer_consent_provided'],\n",
       "      dtype='object')"
      ]
     },
     "execution_count": 7,
     "metadata": {},
     "output_type": "execute_result"
    }
   ],
   "source": [
    "df.columns"
   ]
  },
  {
   "cell_type": "code",
   "execution_count": 8,
   "metadata": {
    "execution": {
     "iopub.execute_input": "2022-03-23T02:54:22.665111Z",
     "iopub.status.busy": "2022-03-23T02:54:22.664330Z",
     "iopub.status.idle": "2022-03-23T02:54:22.675086Z",
     "shell.execute_reply": "2022-03-23T02:54:22.674439Z",
     "shell.execute_reply.started": "2022-03-23T02:54:22.665066Z"
    },
    "id": "SH0io5lfyKOC"
   },
   "outputs": [],
   "source": [
    "df = df[['complaints', 'products_tag']]"
   ]
  },
  {
   "cell_type": "code",
   "execution_count": 9,
   "metadata": {
    "execution": {
     "iopub.execute_input": "2022-03-23T02:54:25.206560Z",
     "iopub.status.busy": "2022-03-23T02:54:25.206208Z",
     "iopub.status.idle": "2022-03-23T02:54:25.232474Z",
     "shell.execute_reply": "2022-03-23T02:54:25.231632Z",
     "shell.execute_reply.started": "2022-03-23T02:54:25.206525Z"
    },
    "id": "pWOMmADq_Jbe",
    "outputId": "9fb2c85f-47d1-40c4-e968-77f2c1f0f7e8"
   },
   "outputs": [
    {
     "data": {
      "text/html": [
       "<div>\n",
       "<style scoped>\n",
       "    .dataframe tbody tr th:only-of-type {\n",
       "        vertical-align: middle;\n",
       "    }\n",
       "\n",
       "    .dataframe tbody tr th {\n",
       "        vertical-align: top;\n",
       "    }\n",
       "\n",
       "    .dataframe thead th {\n",
       "        text-align: right;\n",
       "    }\n",
       "</style>\n",
       "<table border=\"1\" class=\"dataframe\">\n",
       "  <thead>\n",
       "    <tr style=\"text-align: right;\">\n",
       "      <th></th>\n",
       "      <th>complaints</th>\n",
       "      <th>products_tag</th>\n",
       "    </tr>\n",
       "  </thead>\n",
       "  <tbody>\n",
       "    <tr>\n",
       "      <th>1</th>\n",
       "      <td>Good morning my name is XXXX XXXX and I apprec...</td>\n",
       "      <td>Debt collection</td>\n",
       "    </tr>\n",
       "    <tr>\n",
       "      <th>2</th>\n",
       "      <td>I upgraded my XXXX XXXX card in XX/XX/2018 and...</td>\n",
       "      <td>Credit card or prepaid card</td>\n",
       "    </tr>\n",
       "    <tr>\n",
       "      <th>10</th>\n",
       "      <td>Chase Card was reported on XX/XX/2019. However...</td>\n",
       "      <td>Credit reporting, credit repair services, or o...</td>\n",
       "    </tr>\n",
       "    <tr>\n",
       "      <th>11</th>\n",
       "      <td>On XX/XX/2018, while trying to book a XXXX  XX...</td>\n",
       "      <td>Credit reporting, credit repair services, or o...</td>\n",
       "    </tr>\n",
       "    <tr>\n",
       "      <th>14</th>\n",
       "      <td>my grand son give me check for {$1600.00} i de...</td>\n",
       "      <td>Checking or savings account</td>\n",
       "    </tr>\n",
       "    <tr>\n",
       "      <th>...</th>\n",
       "      <td>...</td>\n",
       "      <td>...</td>\n",
       "    </tr>\n",
       "    <tr>\n",
       "      <th>78303</th>\n",
       "      <td>After being a Chase Card customer for well ove...</td>\n",
       "      <td>Credit card or prepaid card</td>\n",
       "    </tr>\n",
       "    <tr>\n",
       "      <th>78309</th>\n",
       "      <td>On Wednesday, XX/XX/XXXX I called Chas, my XXX...</td>\n",
       "      <td>Credit card or prepaid card</td>\n",
       "    </tr>\n",
       "    <tr>\n",
       "      <th>78310</th>\n",
       "      <td>I am not familiar with XXXX pay and did not un...</td>\n",
       "      <td>Checking or savings account</td>\n",
       "    </tr>\n",
       "    <tr>\n",
       "      <th>78311</th>\n",
       "      <td>I have had flawless credit for 30 yrs. I've ha...</td>\n",
       "      <td>Credit card or prepaid card</td>\n",
       "    </tr>\n",
       "    <tr>\n",
       "      <th>78312</th>\n",
       "      <td>Roughly 10+ years ago I closed out my accounts...</td>\n",
       "      <td>Payday loan</td>\n",
       "    </tr>\n",
       "  </tbody>\n",
       "</table>\n",
       "<p>21072 rows × 2 columns</p>\n",
       "</div>"
      ],
      "text/plain": [
       "                                              complaints  \\\n",
       "1      Good morning my name is XXXX XXXX and I apprec...   \n",
       "2      I upgraded my XXXX XXXX card in XX/XX/2018 and...   \n",
       "10     Chase Card was reported on XX/XX/2019. However...   \n",
       "11     On XX/XX/2018, while trying to book a XXXX  XX...   \n",
       "14     my grand son give me check for {$1600.00} i de...   \n",
       "...                                                  ...   \n",
       "78303  After being a Chase Card customer for well ove...   \n",
       "78309  On Wednesday, XX/XX/XXXX I called Chas, my XXX...   \n",
       "78310  I am not familiar with XXXX pay and did not un...   \n",
       "78311  I have had flawless credit for 30 yrs. I've ha...   \n",
       "78312  Roughly 10+ years ago I closed out my accounts...   \n",
       "\n",
       "                                            products_tag  \n",
       "1                                        Debt collection  \n",
       "2                            Credit card or prepaid card  \n",
       "10     Credit reporting, credit repair services, or o...  \n",
       "11     Credit reporting, credit repair services, or o...  \n",
       "14                           Checking or savings account  \n",
       "...                                                  ...  \n",
       "78303                        Credit card or prepaid card  \n",
       "78309                        Credit card or prepaid card  \n",
       "78310                        Checking or savings account  \n",
       "78311                        Credit card or prepaid card  \n",
       "78312                                        Payday loan  \n",
       "\n",
       "[21072 rows x 2 columns]"
      ]
     },
     "execution_count": 9,
     "metadata": {},
     "output_type": "execute_result"
    }
   ],
   "source": [
    "df = df[df['complaints'].astype(bool)]\n",
    "df"
   ]
  },
  {
   "cell_type": "code",
   "execution_count": 10,
   "metadata": {},
   "outputs": [],
   "source": [
    "#Assign nan in place of blanks in the complaints column\n",
    "df['complaints'] = df['complaints'].replace('', np.nan)"
   ]
  },
  {
   "cell_type": "code",
   "execution_count": 11,
   "metadata": {},
   "outputs": [],
   "source": [
    "#Remove all rows where complaints column is nan\n",
    "df.dropna(subset=['complaints'], inplace=True)"
   ]
  },
  {
   "attachments": {},
   "cell_type": "markdown",
   "metadata": {
    "id": "L944HZpsJrFy"
   },
   "source": [
    "## Prepare the text for topic modeling\n",
    "\n",
    "After removing blank complaints:\n",
    "\n",
    "* Make the text lowercase\n",
    "* Remove text in square brackets\n",
    "* Remove punctuation\n",
    "* Remove words containing numbers\n",
    "\n",
    "\n",
    "After all the cleaning operations, performed the following:\n",
    "* Lemmatize the texts\n",
    "* Extract the POS tags of the lemmatized text and remove all the words which have tags other than NN[tag == \"NN\"].\n"
   ]
  },
  {
   "cell_type": "code",
   "execution_count": 12,
   "metadata": {
    "execution": {
     "iopub.execute_input": "2022-03-23T02:54:26.877709Z",
     "iopub.status.busy": "2022-03-23T02:54:26.876959Z",
     "iopub.status.idle": "2022-03-23T02:54:26.884225Z",
     "shell.execute_reply": "2022-03-23T02:54:26.883444Z",
     "shell.execute_reply.started": "2022-03-23T02:54:26.877663Z"
    },
    "id": "qm7SjjSkJrFz"
   },
   "outputs": [],
   "source": [
    "# Function to clean the text and remove all the unnecessary elements.\n",
    "def clean_data(text):\n",
    "    text = text.lower() # text to lowercase\n",
    "    text = re.sub(r'\\s\\{\\$\\S*', '',text) # Remove text within curly braces\n",
    "    text = re.sub(r'\\n', '', text) # Remove line breaks\n",
    "    text = re.sub(r'\\(\\w*\\)', '', text) #remove text within braces\n",
    "    text = re.sub(r'(\\W\\s)|(\\W$)|(\\W\\d*)', ' ',text) # Remove punctuation\n",
    "    text = re.sub(r'x+((/xx)*/\\d*\\s*)|x*', '',text) #Remove date\n",
    "    text = re.sub(r'\\d+\\s', '', text) #Remove other numerical values\n",
    "    text = re.sub(r' +', ' ',text) #Remove unnecessary white spaces\n",
    "    return text\n"
   ]
  },
  {
   "cell_type": "code",
   "execution_count": 13,
   "metadata": {
    "execution": {
     "iopub.execute_input": "2022-03-23T02:54:55.056274Z",
     "iopub.status.busy": "2022-03-23T02:54:55.055978Z",
     "iopub.status.idle": "2022-03-23T02:55:19.901791Z",
     "shell.execute_reply": "2022-03-23T02:55:19.900922Z",
     "shell.execute_reply.started": "2022-03-23T02:54:55.056240Z"
    },
    "id": "0uz1PjjDyKOD",
    "outputId": "7fc7da83-e481-464f-8115-b5334406d331"
   },
   "outputs": [
    {
     "data": {
      "text/html": [
       "<div>\n",
       "<style scoped>\n",
       "    .dataframe tbody tr th:only-of-type {\n",
       "        vertical-align: middle;\n",
       "    }\n",
       "\n",
       "    .dataframe tbody tr th {\n",
       "        vertical-align: top;\n",
       "    }\n",
       "\n",
       "    .dataframe thead th {\n",
       "        text-align: right;\n",
       "    }\n",
       "</style>\n",
       "<table border=\"1\" class=\"dataframe\">\n",
       "  <thead>\n",
       "    <tr style=\"text-align: right;\">\n",
       "      <th></th>\n",
       "      <th>complaints</th>\n",
       "      <th>products_tag</th>\n",
       "      <th>complaint</th>\n",
       "    </tr>\n",
       "  </thead>\n",
       "  <tbody>\n",
       "    <tr>\n",
       "      <th>1</th>\n",
       "      <td>Good morning my name is XXXX XXXX and I apprec...</td>\n",
       "      <td>Debt collection</td>\n",
       "      <td>good morning my name is and i appreciate it if...</td>\n",
       "    </tr>\n",
       "    <tr>\n",
       "      <th>2</th>\n",
       "      <td>I upgraded my XXXX XXXX card in XX/XX/2018 and...</td>\n",
       "      <td>Credit card or prepaid card</td>\n",
       "      <td>i upgraded my card in and was told by the agen...</td>\n",
       "    </tr>\n",
       "    <tr>\n",
       "      <th>10</th>\n",
       "      <td>Chase Card was reported on XX/XX/2019. However...</td>\n",
       "      <td>Credit reporting, credit repair services, or o...</td>\n",
       "      <td>chase card was reported on however fraudulent ...</td>\n",
       "    </tr>\n",
       "    <tr>\n",
       "      <th>11</th>\n",
       "      <td>On XX/XX/2018, while trying to book a XXXX  XX...</td>\n",
       "      <td>Credit reporting, credit repair services, or o...</td>\n",
       "      <td>on while trying to book a ticket i came across...</td>\n",
       "    </tr>\n",
       "    <tr>\n",
       "      <th>14</th>\n",
       "      <td>my grand son give me check for {$1600.00} i de...</td>\n",
       "      <td>Checking or savings account</td>\n",
       "      <td>my grand son give me check for i deposit it in...</td>\n",
       "    </tr>\n",
       "  </tbody>\n",
       "</table>\n",
       "</div>"
      ],
      "text/plain": [
       "                                           complaints  \\\n",
       "1   Good morning my name is XXXX XXXX and I apprec...   \n",
       "2   I upgraded my XXXX XXXX card in XX/XX/2018 and...   \n",
       "10  Chase Card was reported on XX/XX/2019. However...   \n",
       "11  On XX/XX/2018, while trying to book a XXXX  XX...   \n",
       "14  my grand son give me check for {$1600.00} i de...   \n",
       "\n",
       "                                         products_tag  \\\n",
       "1                                     Debt collection   \n",
       "2                         Credit card or prepaid card   \n",
       "10  Credit reporting, credit repair services, or o...   \n",
       "11  Credit reporting, credit repair services, or o...   \n",
       "14                        Checking or savings account   \n",
       "\n",
       "                                            complaint  \n",
       "1   good morning my name is and i appreciate it if...  \n",
       "2   i upgraded my card in and was told by the agen...  \n",
       "10  chase card was reported on however fraudulent ...  \n",
       "11  on while trying to book a ticket i came across...  \n",
       "14  my grand son give me check for i deposit it in...  "
      ]
     },
     "execution_count": 13,
     "metadata": {},
     "output_type": "execute_result"
    }
   ],
   "source": [
    "# Apply data cleaning to the complaints_what_happened column\n",
    "\n",
    "df['complaint'] = df['complaints'].apply(clean_data)\n",
    "df.head()"
   ]
  },
  {
   "cell_type": "code",
   "execution_count": 14,
   "metadata": {
    "execution": {
     "iopub.execute_input": "2022-03-23T02:55:19.904599Z",
     "iopub.status.busy": "2022-03-23T02:55:19.903733Z",
     "iopub.status.idle": "2022-03-23T02:55:19.910778Z",
     "shell.execute_reply": "2022-03-23T02:55:19.909972Z",
     "shell.execute_reply.started": "2022-03-23T02:55:19.904549Z"
    },
    "id": "zgOu8t8HJrFz"
   },
   "outputs": [],
   "source": [
    "# Function to Lemmatize the texts\n",
    "def lemmatization(text):\n",
    "    tokens = word_tokenize(text)\n",
    "    wordnet_lemmetizer = WordNetLemmatizer()\n",
    "    lemmatized = [wordnet_lemmetizer.lemmatize(token) for token in tokens]\n",
    "    lemmatized_str = \" \".join(lemmatized)\n",
    "    return lemmatized_str"
   ]
  },
  {
   "cell_type": "code",
   "execution_count": 15,
   "metadata": {
    "execution": {
     "iopub.execute_input": "2022-03-23T02:55:20.113397Z",
     "iopub.status.busy": "2022-03-23T02:55:20.113158Z",
     "iopub.status.idle": "2022-03-23T02:56:27.818951Z",
     "shell.execute_reply": "2022-03-23T02:56:27.817920Z",
     "shell.execute_reply.started": "2022-03-23T02:55:20.113345Z"
    },
    "id": "uXnN7aa_JrF0"
   },
   "outputs": [],
   "source": [
    "#Create a dataframe('df_clean') that will have only the complaints and the lemmatized complaints \n",
    "df_clean = pd.DataFrame({'complaints':df['complaints'], 'lemmatized':df['complaints'].apply(lemmatization)})"
   ]
  },
  {
   "cell_type": "code",
   "execution_count": 16,
   "metadata": {
    "execution": {
     "iopub.execute_input": "2022-03-23T02:56:27.822309Z",
     "iopub.status.busy": "2022-03-23T02:56:27.821994Z",
     "iopub.status.idle": "2022-03-23T02:56:27.832190Z",
     "shell.execute_reply": "2022-03-23T02:56:27.831321Z",
     "shell.execute_reply.started": "2022-03-23T02:56:27.822268Z"
    },
    "id": "nOiDVvEIJrF0",
    "outputId": "93738e15-e419-4c65-b91c-aaaeed35b3cd"
   },
   "outputs": [
    {
     "data": {
      "text/html": [
       "<div>\n",
       "<style scoped>\n",
       "    .dataframe tbody tr th:only-of-type {\n",
       "        vertical-align: middle;\n",
       "    }\n",
       "\n",
       "    .dataframe tbody tr th {\n",
       "        vertical-align: top;\n",
       "    }\n",
       "\n",
       "    .dataframe thead th {\n",
       "        text-align: right;\n",
       "    }\n",
       "</style>\n",
       "<table border=\"1\" class=\"dataframe\">\n",
       "  <thead>\n",
       "    <tr style=\"text-align: right;\">\n",
       "      <th></th>\n",
       "      <th>complaints</th>\n",
       "      <th>lemmatized</th>\n",
       "    </tr>\n",
       "  </thead>\n",
       "  <tbody>\n",
       "    <tr>\n",
       "      <th>1</th>\n",
       "      <td>Good morning my name is XXXX XXXX and I apprec...</td>\n",
       "      <td>Good morning my name is XXXX XXXX and I apprec...</td>\n",
       "    </tr>\n",
       "    <tr>\n",
       "      <th>2</th>\n",
       "      <td>I upgraded my XXXX XXXX card in XX/XX/2018 and...</td>\n",
       "      <td>I upgraded my XXXX XXXX card in XX/XX/2018 and...</td>\n",
       "    </tr>\n",
       "    <tr>\n",
       "      <th>10</th>\n",
       "      <td>Chase Card was reported on XX/XX/2019. However...</td>\n",
       "      <td>Chase Card wa reported on XX/XX/2019 . However...</td>\n",
       "    </tr>\n",
       "    <tr>\n",
       "      <th>11</th>\n",
       "      <td>On XX/XX/2018, while trying to book a XXXX  XX...</td>\n",
       "      <td>On XX/XX/2018 , while trying to book a XXXX XX...</td>\n",
       "    </tr>\n",
       "    <tr>\n",
       "      <th>14</th>\n",
       "      <td>my grand son give me check for {$1600.00} i de...</td>\n",
       "      <td>my grand son give me check for { $ 1600.00 } i...</td>\n",
       "    </tr>\n",
       "  </tbody>\n",
       "</table>\n",
       "</div>"
      ],
      "text/plain": [
       "                                           complaints  \\\n",
       "1   Good morning my name is XXXX XXXX and I apprec...   \n",
       "2   I upgraded my XXXX XXXX card in XX/XX/2018 and...   \n",
       "10  Chase Card was reported on XX/XX/2019. However...   \n",
       "11  On XX/XX/2018, while trying to book a XXXX  XX...   \n",
       "14  my grand son give me check for {$1600.00} i de...   \n",
       "\n",
       "                                           lemmatized  \n",
       "1   Good morning my name is XXXX XXXX and I apprec...  \n",
       "2   I upgraded my XXXX XXXX card in XX/XX/2018 and...  \n",
       "10  Chase Card wa reported on XX/XX/2019 . However...  \n",
       "11  On XX/XX/2018 , while trying to book a XXXX XX...  \n",
       "14  my grand son give me check for { $ 1600.00 } i...  "
      ]
     },
     "execution_count": 16,
     "metadata": {},
     "output_type": "execute_result"
    }
   ],
   "source": [
    "df_clean.head()"
   ]
  },
  {
   "cell_type": "code",
   "execution_count": 17,
   "metadata": {
    "execution": {
     "iopub.execute_input": "2022-03-23T02:56:27.833582Z",
     "iopub.status.busy": "2022-03-23T02:56:27.833339Z",
     "iopub.status.idle": "2022-03-23T03:04:39.903922Z",
     "shell.execute_reply": "2022-03-23T03:04:39.902756Z",
     "shell.execute_reply.started": "2022-03-23T02:56:27.833555Z"
    },
    "id": "Kk7fc4DuJrF1"
   },
   "outputs": [
    {
     "data": {
      "application/vnd.jupyter.widget-view+json": {
       "model_id": "8a97074006f749d0b0c9ef617bd35aec",
       "version_major": 2,
       "version_minor": 0
      },
      "text/plain": [
       "Pandas Apply:   0%|          | 0/21072 [00:00<?, ?it/s]"
      ]
     },
     "metadata": {},
     "output_type": "display_data"
    }
   ],
   "source": [
    "#Write your function to extract the POS tags \n",
    "\n",
    "def get_pos_tags(text):\n",
    "    nn_words = []\n",
    "    doc = nlp(text)\n",
    "    for tok in doc:\n",
    "        if(tok.tag_ == 'NN'):\n",
    "            nn_words.append(tok.lemma_)\n",
    "    nn_words_str = \" \".join(nn_words)\n",
    "    return nn_words_str\n",
    "\n",
    "#this column should contain lemmatized text with all the words removed which have tags other than NN[tag == \"NN\"].\n",
    "df_clean[\"complaint_POS_removed\"] =  df_clean.swifter.apply(lambda x: get_pos_tags(x['lemmatized']), axis=1)"
   ]
  },
  {
   "cell_type": "code",
   "execution_count": 18,
   "metadata": {
    "execution": {
     "iopub.execute_input": "2022-03-23T03:04:39.906273Z",
     "iopub.status.busy": "2022-03-23T03:04:39.905980Z",
     "iopub.status.idle": "2022-03-23T03:04:39.923621Z",
     "shell.execute_reply": "2022-03-23T03:04:39.922970Z",
     "shell.execute_reply.started": "2022-03-23T03:04:39.906236Z"
    },
    "id": "AjxfchvFJrF2",
    "outputId": "5a6966a4-d02a-4110-ea2d-73d6ff42176a"
   },
   "outputs": [
    {
     "data": {
      "text/html": [
       "<div>\n",
       "<style scoped>\n",
       "    .dataframe tbody tr th:only-of-type {\n",
       "        vertical-align: middle;\n",
       "    }\n",
       "\n",
       "    .dataframe tbody tr th {\n",
       "        vertical-align: top;\n",
       "    }\n",
       "\n",
       "    .dataframe thead th {\n",
       "        text-align: right;\n",
       "    }\n",
       "</style>\n",
       "<table border=\"1\" class=\"dataframe\">\n",
       "  <thead>\n",
       "    <tr style=\"text-align: right;\">\n",
       "      <th></th>\n",
       "      <th>complaints</th>\n",
       "      <th>lemmatized</th>\n",
       "      <th>complaint_POS_removed</th>\n",
       "    </tr>\n",
       "  </thead>\n",
       "  <tbody>\n",
       "    <tr>\n",
       "      <th>1</th>\n",
       "      <td>Good morning my name is XXXX XXXX and I apprec...</td>\n",
       "      <td>Good morning my name is XXXX XXXX and I apprec...</td>\n",
       "      <td>morning name stop cardmember service debt veri...</td>\n",
       "    </tr>\n",
       "    <tr>\n",
       "      <th>2</th>\n",
       "      <td>I upgraded my XXXX XXXX card in XX/XX/2018 and...</td>\n",
       "      <td>I upgraded my XXXX XXXX card in XX/XX/2018 and...</td>\n",
       "      <td>xxxx xxxx card agent anniversary date agent in...</td>\n",
       "    </tr>\n",
       "    <tr>\n",
       "      <th>10</th>\n",
       "      <td>Chase Card was reported on XX/XX/2019. However...</td>\n",
       "      <td>Chase Card wa reported on XX/XX/2019 . However...</td>\n",
       "      <td>application identity consent service credit id...</td>\n",
       "    </tr>\n",
       "    <tr>\n",
       "      <th>11</th>\n",
       "      <td>On XX/XX/2018, while trying to book a XXXX  XX...</td>\n",
       "      <td>On XX/XX/2018 , while trying to book a XXXX XX...</td>\n",
       "      <td>xxxx xxxx ticket offer ticket reward card info...</td>\n",
       "    </tr>\n",
       "    <tr>\n",
       "      <th>14</th>\n",
       "      <td>my grand son give me check for {$1600.00} i de...</td>\n",
       "      <td>my grand son give me check for { $ 1600.00 } i...</td>\n",
       "      <td>son chase account fund chase bank account mone...</td>\n",
       "    </tr>\n",
       "    <tr>\n",
       "      <th>...</th>\n",
       "      <td>...</td>\n",
       "      <td>...</td>\n",
       "      <td>...</td>\n",
       "    </tr>\n",
       "    <tr>\n",
       "      <th>78303</th>\n",
       "      <td>After being a Chase Card customer for well ove...</td>\n",
       "      <td>After being a Chase Card customer for well ove...</td>\n",
       "      <td>customer decade solicitation credit card bonus...</td>\n",
       "    </tr>\n",
       "    <tr>\n",
       "      <th>78309</th>\n",
       "      <td>On Wednesday, XX/XX/XXXX I called Chas, my XXX...</td>\n",
       "      <td>On Wednesday , XX/XX/XXXX I called Chas , my X...</td>\n",
       "      <td>xxxx xxxx provider claim purchase protection b...</td>\n",
       "    </tr>\n",
       "    <tr>\n",
       "      <th>78310</th>\n",
       "      <td>I am not familiar with XXXX pay and did not un...</td>\n",
       "      <td>I am not familiar with XXXX pay and did not un...</td>\n",
       "      <td>xxxx pay risk consumer bank app year banking m...</td>\n",
       "    </tr>\n",
       "    <tr>\n",
       "      <th>78311</th>\n",
       "      <td>I have had flawless credit for 30 yrs. I've ha...</td>\n",
       "      <td>I have had flawless credit for 30 yr . I 've h...</td>\n",
       "      <td>credit credit card problem balance transfer li...</td>\n",
       "    </tr>\n",
       "    <tr>\n",
       "      <th>78312</th>\n",
       "      <td>Roughly 10+ years ago I closed out my accounts...</td>\n",
       "      <td>Roughly 10+ year ago I closed out my account w...</td>\n",
       "      <td>year account order line credit account payment...</td>\n",
       "    </tr>\n",
       "  </tbody>\n",
       "</table>\n",
       "<p>21072 rows × 3 columns</p>\n",
       "</div>"
      ],
      "text/plain": [
       "                                              complaints  \\\n",
       "1      Good morning my name is XXXX XXXX and I apprec...   \n",
       "2      I upgraded my XXXX XXXX card in XX/XX/2018 and...   \n",
       "10     Chase Card was reported on XX/XX/2019. However...   \n",
       "11     On XX/XX/2018, while trying to book a XXXX  XX...   \n",
       "14     my grand son give me check for {$1600.00} i de...   \n",
       "...                                                  ...   \n",
       "78303  After being a Chase Card customer for well ove...   \n",
       "78309  On Wednesday, XX/XX/XXXX I called Chas, my XXX...   \n",
       "78310  I am not familiar with XXXX pay and did not un...   \n",
       "78311  I have had flawless credit for 30 yrs. I've ha...   \n",
       "78312  Roughly 10+ years ago I closed out my accounts...   \n",
       "\n",
       "                                              lemmatized  \\\n",
       "1      Good morning my name is XXXX XXXX and I apprec...   \n",
       "2      I upgraded my XXXX XXXX card in XX/XX/2018 and...   \n",
       "10     Chase Card wa reported on XX/XX/2019 . However...   \n",
       "11     On XX/XX/2018 , while trying to book a XXXX XX...   \n",
       "14     my grand son give me check for { $ 1600.00 } i...   \n",
       "...                                                  ...   \n",
       "78303  After being a Chase Card customer for well ove...   \n",
       "78309  On Wednesday , XX/XX/XXXX I called Chas , my X...   \n",
       "78310  I am not familiar with XXXX pay and did not un...   \n",
       "78311  I have had flawless credit for 30 yr . I 've h...   \n",
       "78312  Roughly 10+ year ago I closed out my account w...   \n",
       "\n",
       "                                   complaint_POS_removed  \n",
       "1      morning name stop cardmember service debt veri...  \n",
       "2      xxxx xxxx card agent anniversary date agent in...  \n",
       "10     application identity consent service credit id...  \n",
       "11     xxxx xxxx ticket offer ticket reward card info...  \n",
       "14     son chase account fund chase bank account mone...  \n",
       "...                                                  ...  \n",
       "78303  customer decade solicitation credit card bonus...  \n",
       "78309  xxxx xxxx provider claim purchase protection b...  \n",
       "78310  xxxx pay risk consumer bank app year banking m...  \n",
       "78311  credit credit card problem balance transfer li...  \n",
       "78312  year account order line credit account payment...  \n",
       "\n",
       "[21072 rows x 3 columns]"
      ]
     },
     "execution_count": 18,
     "metadata": {},
     "output_type": "execute_result"
    }
   ],
   "source": [
    "#The clean dataframe should now contain the raw complaint, lemmatized complaint and the complaint after removing POS tags.\n",
    "df_clean"
   ]
  },
  {
   "attachments": {},
   "cell_type": "markdown",
   "metadata": {
    "id": "_7Un1AElJrF2"
   },
   "source": [
    "## Exploratory data analysis to get familiar with the data.\n",
    "\n",
    "Data visulaisation:\n",
    "\n",
    "*   Visualise the data according to the 'Complaint' character length\n",
    "*   Using a word cloud find the top 40 words by frequency among all the articles after processing the text\n",
    "*   Find the top unigrams,bigrams and trigrams by frequency among all the complaints after processing the text. ‘\n",
    "\n",
    "\n"
   ]
  },
  {
   "cell_type": "code",
   "execution_count": 19,
   "metadata": {
    "execution": {
     "iopub.execute_input": "2022-03-23T03:04:39.925016Z",
     "iopub.status.busy": "2022-03-23T03:04:39.924803Z",
     "iopub.status.idle": "2022-03-23T03:04:40.532414Z",
     "shell.execute_reply": "2022-03-23T03:04:40.531543Z",
     "shell.execute_reply.started": "2022-03-23T03:04:39.924990Z"
    },
    "id": "q-zaqJF6JrF2",
    "outputId": "6b18692c-95f2-462e-92a8-e1246012b7a0"
   },
   "outputs": [
    {
     "data": {
      "image/png": "[encoded data removed]",
      "text/plain": [
       "<Figure size 1000x600 with 1 Axes>"
      ]
     },
     "metadata": {},
     "output_type": "display_data"
    }
   ],
   "source": [
    "# Write your code here to visualise the data according to the 'Complaint' character length\n",
    "plt.figure(figsize=(10,6))\n",
    "doc_lens = [len(d) for d in df_clean.complaint_POS_removed]\n",
    "plt.hist(doc_lens, bins = 100)\n",
    "plt.ylabel('Number of Complaint')\n",
    "plt.xlabel('Complaint character length')\n",
    "sns.despine();"
   ]
  },
  {
   "attachments": {},
   "cell_type": "markdown",
   "metadata": {
    "id": "T9jD_6SeJrF3"
   },
   "source": [
    "#### Find the top 40 words by frequency among all the articles after processing the text."
   ]
  },
  {
   "cell_type": "code",
   "execution_count": 20,
   "metadata": {
    "execution": {
     "iopub.execute_input": "2022-03-23T03:04:40.534973Z",
     "iopub.status.busy": "2022-03-23T03:04:40.533987Z",
     "iopub.status.idle": "2022-03-23T03:04:40.960454Z",
     "shell.execute_reply": "2022-03-23T03:04:40.959735Z",
     "shell.execute_reply.started": "2022-03-23T03:04:40.534927Z"
    },
    "id": "VzDvFyzrFE2U",
    "outputId": "1115fe65-2d86-4738-8e07-ce3697c89c14"
   },
   "outputs": [
    {
     "data": {
      "image/png": "[encoded data removed]",
      "text/plain": [
       "<Figure size 1200x1200 with 1 Axes>"
      ]
     },
     "metadata": {},
     "output_type": "display_data"
    }
   ],
   "source": [
    "# Top 40 words frequency wise wordcloud\n",
    "wordcloud = WordCloud(max_words=40, random_state=1, stopwords=set(STOPWORDS))\n",
    "wordcloud.generate(str(df_clean['complaint_POS_removed']))\n",
    "plt.figure(figsize=(12,12))\n",
    "plt.imshow(wordcloud, interpolation=\"bilinear\")\n",
    "plt.axis(\"off\")\n",
    "plt.show()"
   ]
  },
  {
   "cell_type": "code",
   "execution_count": 21,
   "metadata": {
    "execution": {
     "iopub.execute_input": "2022-03-23T03:04:40.964017Z",
     "iopub.status.busy": "2022-03-23T03:04:40.963291Z",
     "iopub.status.idle": "2022-03-23T03:04:41.008025Z",
     "shell.execute_reply": "2022-03-23T03:04:41.007400Z",
     "shell.execute_reply.started": "2022-03-23T03:04:40.963939Z"
    },
    "id": "OkSmc3UaJrF4"
   },
   "outputs": [
    {
     "data": {
      "text/html": [
       "<div>\n",
       "<style scoped>\n",
       "    .dataframe tbody tr th:only-of-type {\n",
       "        vertical-align: middle;\n",
       "    }\n",
       "\n",
       "    .dataframe tbody tr th {\n",
       "        vertical-align: top;\n",
       "    }\n",
       "\n",
       "    .dataframe thead th {\n",
       "        text-align: right;\n",
       "    }\n",
       "</style>\n",
       "<table border=\"1\" class=\"dataframe\">\n",
       "  <thead>\n",
       "    <tr style=\"text-align: right;\">\n",
       "      <th></th>\n",
       "      <th>complaints</th>\n",
       "      <th>lemmatized</th>\n",
       "      <th>complaint_POS_removed</th>\n",
       "      <th>Complaint_clean</th>\n",
       "    </tr>\n",
       "  </thead>\n",
       "  <tbody>\n",
       "    <tr>\n",
       "      <th>1</th>\n",
       "      <td>Good morning my name is XXXX XXXX and I apprec...</td>\n",
       "      <td>Good morning my name is XXXX XXXX and I apprec...</td>\n",
       "      <td>morning name stop cardmember service debt veri...</td>\n",
       "      <td>morning name stop cardmember service debt veri...</td>\n",
       "    </tr>\n",
       "    <tr>\n",
       "      <th>2</th>\n",
       "      <td>I upgraded my XXXX XXXX card in XX/XX/2018 and...</td>\n",
       "      <td>I upgraded my XXXX XXXX card in XX/XX/2018 and...</td>\n",
       "      <td>xxxx xxxx card agent anniversary date agent in...</td>\n",
       "      <td>xxxx xxxx card agent anniversary date agent in...</td>\n",
       "    </tr>\n",
       "    <tr>\n",
       "      <th>10</th>\n",
       "      <td>Chase Card was reported on XX/XX/2019. However...</td>\n",
       "      <td>Chase Card wa reported on XX/XX/2019 . However...</td>\n",
       "      <td>application identity consent service credit id...</td>\n",
       "      <td>application identity consent service credit id...</td>\n",
       "    </tr>\n",
       "    <tr>\n",
       "      <th>11</th>\n",
       "      <td>On XX/XX/2018, while trying to book a XXXX  XX...</td>\n",
       "      <td>On XX/XX/2018 , while trying to book a XXXX XX...</td>\n",
       "      <td>xxxx xxxx ticket offer ticket reward card info...</td>\n",
       "      <td>xxxx xxxx ticket offer ticket reward card info...</td>\n",
       "    </tr>\n",
       "    <tr>\n",
       "      <th>14</th>\n",
       "      <td>my grand son give me check for {$1600.00} i de...</td>\n",
       "      <td>my grand son give me check for { $ 1600.00 } i...</td>\n",
       "      <td>son chase account fund chase bank account mone...</td>\n",
       "      <td>son chase account fund chase bank account mone...</td>\n",
       "    </tr>\n",
       "    <tr>\n",
       "      <th>...</th>\n",
       "      <td>...</td>\n",
       "      <td>...</td>\n",
       "      <td>...</td>\n",
       "      <td>...</td>\n",
       "    </tr>\n",
       "    <tr>\n",
       "      <th>78303</th>\n",
       "      <td>After being a Chase Card customer for well ove...</td>\n",
       "      <td>After being a Chase Card customer for well ove...</td>\n",
       "      <td>customer decade solicitation credit card bonus...</td>\n",
       "      <td>customer decade solicitation credit card bonus...</td>\n",
       "    </tr>\n",
       "    <tr>\n",
       "      <th>78309</th>\n",
       "      <td>On Wednesday, XX/XX/XXXX I called Chas, my XXX...</td>\n",
       "      <td>On Wednesday , XX/XX/XXXX I called Chas , my X...</td>\n",
       "      <td>xxxx xxxx provider claim purchase protection b...</td>\n",
       "      <td>xxxx xxxx provider claim purchase protection b...</td>\n",
       "    </tr>\n",
       "    <tr>\n",
       "      <th>78310</th>\n",
       "      <td>I am not familiar with XXXX pay and did not un...</td>\n",
       "      <td>I am not familiar with XXXX pay and did not un...</td>\n",
       "      <td>xxxx pay risk consumer bank app year banking m...</td>\n",
       "      <td>xxxx pay risk consumer bank app year banking m...</td>\n",
       "    </tr>\n",
       "    <tr>\n",
       "      <th>78311</th>\n",
       "      <td>I have had flawless credit for 30 yrs. I've ha...</td>\n",
       "      <td>I have had flawless credit for 30 yr . I 've h...</td>\n",
       "      <td>credit credit card problem balance transfer li...</td>\n",
       "      <td>credit credit card problem balance transfer li...</td>\n",
       "    </tr>\n",
       "    <tr>\n",
       "      <th>78312</th>\n",
       "      <td>Roughly 10+ years ago I closed out my accounts...</td>\n",
       "      <td>Roughly 10+ year ago I closed out my account w...</td>\n",
       "      <td>year account order line credit account payment...</td>\n",
       "      <td>year account order line credit account payment...</td>\n",
       "    </tr>\n",
       "  </tbody>\n",
       "</table>\n",
       "<p>21072 rows × 4 columns</p>\n",
       "</div>"
      ],
      "text/plain": [
       "                                              complaints  \\\n",
       "1      Good morning my name is XXXX XXXX and I apprec...   \n",
       "2      I upgraded my XXXX XXXX card in XX/XX/2018 and...   \n",
       "10     Chase Card was reported on XX/XX/2019. However...   \n",
       "11     On XX/XX/2018, while trying to book a XXXX  XX...   \n",
       "14     my grand son give me check for {$1600.00} i de...   \n",
       "...                                                  ...   \n",
       "78303  After being a Chase Card customer for well ove...   \n",
       "78309  On Wednesday, XX/XX/XXXX I called Chas, my XXX...   \n",
       "78310  I am not familiar with XXXX pay and did not un...   \n",
       "78311  I have had flawless credit for 30 yrs. I've ha...   \n",
       "78312  Roughly 10+ years ago I closed out my accounts...   \n",
       "\n",
       "                                              lemmatized  \\\n",
       "1      Good morning my name is XXXX XXXX and I apprec...   \n",
       "2      I upgraded my XXXX XXXX card in XX/XX/2018 and...   \n",
       "10     Chase Card wa reported on XX/XX/2019 . However...   \n",
       "11     On XX/XX/2018 , while trying to book a XXXX XX...   \n",
       "14     my grand son give me check for { $ 1600.00 } i...   \n",
       "...                                                  ...   \n",
       "78303  After being a Chase Card customer for well ove...   \n",
       "78309  On Wednesday , XX/XX/XXXX I called Chas , my X...   \n",
       "78310  I am not familiar with XXXX pay and did not un...   \n",
       "78311  I have had flawless credit for 30 yr . I 've h...   \n",
       "78312  Roughly 10+ year ago I closed out my account w...   \n",
       "\n",
       "                                   complaint_POS_removed  \\\n",
       "1      morning name stop cardmember service debt veri...   \n",
       "2      xxxx xxxx card agent anniversary date agent in...   \n",
       "10     application identity consent service credit id...   \n",
       "11     xxxx xxxx ticket offer ticket reward card info...   \n",
       "14     son chase account fund chase bank account mone...   \n",
       "...                                                  ...   \n",
       "78303  customer decade solicitation credit card bonus...   \n",
       "78309  xxxx xxxx provider claim purchase protection b...   \n",
       "78310  xxxx pay risk consumer bank app year banking m...   \n",
       "78311  credit credit card problem balance transfer li...   \n",
       "78312  year account order line credit account payment...   \n",
       "\n",
       "                                         Complaint_clean  \n",
       "1      morning name stop cardmember service debt veri...  \n",
       "2      xxxx xxxx card agent anniversary date agent in...  \n",
       "10     application identity consent service credit id...  \n",
       "11     xxxx xxxx ticket offer ticket reward card info...  \n",
       "14     son chase account fund chase bank account mone...  \n",
       "...                                                  ...  \n",
       "78303  customer decade solicitation credit card bonus...  \n",
       "78309  xxxx xxxx provider claim purchase protection b...  \n",
       "78310  xxxx pay risk consumer bank app year banking m...  \n",
       "78311  credit credit card problem balance transfer li...  \n",
       "78312  year account order line credit account payment...  \n",
       "\n",
       "[21072 rows x 4 columns]"
      ]
     },
     "execution_count": 21,
     "metadata": {},
     "output_type": "execute_result"
    }
   ],
   "source": [
    "#Removing -PRON- from the text corpus\n",
    "df_clean['Complaint_clean'] = df_clean['complaint_POS_removed'].str.replace('-PRON-', '')\n",
    "df_clean"
   ]
  },
  {
   "attachments": {},
   "cell_type": "markdown",
   "metadata": {
    "id": "5DfCSbbmJrF4"
   },
   "source": [
    "#### Find the top unigrams,bigrams and trigrams by frequency among all the complaints after processing the text."
   ]
  },
  {
   "cell_type": "code",
   "execution_count": 22,
   "metadata": {
    "execution": {
     "iopub.execute_input": "2022-03-23T03:04:41.010021Z",
     "iopub.status.busy": "2022-03-23T03:04:41.009250Z",
     "iopub.status.idle": "2022-03-23T03:04:41.016675Z",
     "shell.execute_reply": "2022-03-23T03:04:41.015893Z",
     "shell.execute_reply.started": "2022-03-23T03:04:41.009979Z"
    }
   },
   "outputs": [],
   "source": [
    "def top_grams(grams):\n",
    "    c_vec = CountVectorizer(stop_words=stopwords.words('english'), ngram_range=(grams,grams))\n",
    "    grams = c_vec.fit_transform(df_clean['complaints'])\n",
    "    count_values = grams.toarray().sum(axis=0)\n",
    "    vocab = c_vec.vocabulary_\n",
    "    df_ngram = pd.DataFrame(sorted([(count_values[i],k) for k,i in vocab.items()], reverse=True)\n",
    "            ).rename(columns={0: 'frequency', 1:'unigram'})\n",
    "    return df_ngram\n",
    "    \n",
    "    "
   ]
  },
  {
   "cell_type": "code",
   "execution_count": 23,
   "metadata": {
    "execution": {
     "iopub.execute_input": "2022-03-23T03:04:41.018085Z",
     "iopub.status.busy": "2022-03-23T03:04:41.017752Z",
     "iopub.status.idle": "2022-03-23T03:04:49.254449Z",
     "shell.execute_reply": "2022-03-23T03:04:49.253607Z",
     "shell.execute_reply.started": "2022-03-23T03:04:41.018056Z"
    }
   },
   "outputs": [
    {
     "data": {
      "text/html": [
       "<div>\n",
       "<style scoped>\n",
       "    .dataframe tbody tr th:only-of-type {\n",
       "        vertical-align: middle;\n",
       "    }\n",
       "\n",
       "    .dataframe tbody tr th {\n",
       "        vertical-align: top;\n",
       "    }\n",
       "\n",
       "    .dataframe thead th {\n",
       "        text-align: right;\n",
       "    }\n",
       "</style>\n",
       "<table border=\"1\" class=\"dataframe\">\n",
       "  <thead>\n",
       "    <tr style=\"text-align: right;\">\n",
       "      <th></th>\n",
       "      <th>frequency</th>\n",
       "      <th>unigram</th>\n",
       "    </tr>\n",
       "  </thead>\n",
       "  <tbody>\n",
       "    <tr>\n",
       "      <th>0</th>\n",
       "      <td>228998</td>\n",
       "      <td>xxxx</td>\n",
       "    </tr>\n",
       "    <tr>\n",
       "      <th>1</th>\n",
       "      <td>80810</td>\n",
       "      <td>chase</td>\n",
       "    </tr>\n",
       "    <tr>\n",
       "      <th>2</th>\n",
       "      <td>77015</td>\n",
       "      <td>xx</td>\n",
       "    </tr>\n",
       "    <tr>\n",
       "      <th>3</th>\n",
       "      <td>42745</td>\n",
       "      <td>account</td>\n",
       "    </tr>\n",
       "    <tr>\n",
       "      <th>4</th>\n",
       "      <td>32806</td>\n",
       "      <td>credit</td>\n",
       "    </tr>\n",
       "    <tr>\n",
       "      <th>5</th>\n",
       "      <td>30482</td>\n",
       "      <td>00</td>\n",
       "    </tr>\n",
       "    <tr>\n",
       "      <th>6</th>\n",
       "      <td>26941</td>\n",
       "      <td>card</td>\n",
       "    </tr>\n",
       "    <tr>\n",
       "      <th>7</th>\n",
       "      <td>26760</td>\n",
       "      <td>bank</td>\n",
       "    </tr>\n",
       "    <tr>\n",
       "      <th>8</th>\n",
       "      <td>20364</td>\n",
       "      <td>would</td>\n",
       "    </tr>\n",
       "    <tr>\n",
       "      <th>9</th>\n",
       "      <td>16383</td>\n",
       "      <td>told</td>\n",
       "    </tr>\n",
       "  </tbody>\n",
       "</table>\n",
       "</div>"
      ],
      "text/plain": [
       "   frequency  unigram\n",
       "0     228998     xxxx\n",
       "1      80810    chase\n",
       "2      77015       xx\n",
       "3      42745  account\n",
       "4      32806   credit\n",
       "5      30482       00\n",
       "6      26941     card\n",
       "7      26760     bank\n",
       "8      20364    would\n",
       "9      16383     told"
      ]
     },
     "execution_count": 23,
     "metadata": {},
     "output_type": "execute_result"
    }
   ],
   "source": [
    "df_unigram = top_grams(1)\n",
    "df_unigram.head(10)"
   ]
  },
  {
   "cell_type": "code",
   "execution_count": 24,
   "metadata": {
    "execution": {
     "iopub.execute_input": "2022-03-23T03:04:49.256515Z",
     "iopub.status.busy": "2022-03-23T03:04:49.256022Z",
     "iopub.status.idle": "2022-03-23T03:05:58.724242Z",
     "shell.execute_reply": "2022-03-23T03:05:58.723428Z",
     "shell.execute_reply.started": "2022-03-23T03:04:49.256470Z"
    }
   },
   "outputs": [],
   "source": [
    "## imported libraries for creating function for bigrams and trigrams.\n",
    "from nltk.collocations import BigramCollocationFinder\n",
    "from nltk.metrics import BigramAssocMeasures\n",
    "from nltk.collocations import TrigramCollocationFinder\n",
    "from nltk.metrics import TrigramAssocMeasures"
   ]
  },
  {
   "cell_type": "code",
   "execution_count": 25,
   "metadata": {
    "execution": {
     "iopub.execute_input": "2022-03-23T03:05:58.726087Z",
     "iopub.status.busy": "2022-03-23T03:05:58.725778Z",
     "iopub.status.idle": "2022-03-23T03:08:27.934430Z",
     "shell.execute_reply": "2022-03-23T03:08:27.933447Z",
     "shell.execute_reply.started": "2022-03-23T03:05:58.726045Z"
    }
   },
   "outputs": [],
   "source": [
    "#Write your code here to find the top 30 bigrams frequency among the complaints in the cleaned datafram(df_clean). \n",
    "def get_top_bigrams(df_clean, n=30):\n",
    "    # Tokenize the complaints into individual words\n",
    "    complaints_tokens = [nltk.word_tokenize(complaint.lower()) for complaint in df_clean['complaints']]\n",
    "    # Generate the bigrams from the tokenized words\n",
    "    bigram_finder = BigramCollocationFinder.from_documents(complaints_tokens)\n",
    "    # Calculate the frequency of each bigram\n",
    "    bigram_freq = bigram_finder.ngram_fd.items()\n",
    "    # Sort the bigrams based on their frequency in descending order\n",
    "    sorted_bigrams = sorted(bigram_freq, key=lambda item: item[1], reverse=True)\n",
    "    # Select the top n bigrams\n",
    "    top_n_bigrams = sorted_bigrams[:n]\n",
    "    # Convert the bigrams and frequencies into a dataframe\n",
    "    df_top_bigrams = pd.DataFrame(top_n_bigrams, columns=['bigram', 'frequency'])\n",
    "    return df_top_bigrams"
   ]
  },
  {
   "cell_type": "code",
   "execution_count": 26,
   "metadata": {},
   "outputs": [
    {
     "name": "stdout",
     "output_type": "stream",
     "text": [
      "         bigram  frequency\n",
      "0  (xxxx, xxxx)      62404\n",
      "1        (., i)      61782\n",
      "2        ({, $)      30444\n",
      "3      (i, was)      20087\n",
      "4        (,, i)      19581\n",
      "5     (i, have)      19558\n",
      "6     (xxxx, ,)      18977\n",
      "7     (of, the)      16691\n",
      "8      (., the)      15789\n",
      "9      (,, and)      15568\n"
     ]
    }
   ],
   "source": [
    "#Print the top 10 words in the bigram frequency\n",
    "top_10_bigrams = get_top_bigrams(df_clean, n=10)\n",
    "print(top_10_bigrams)"
   ]
  },
  {
   "cell_type": "code",
   "execution_count": 27,
   "metadata": {},
   "outputs": [],
   "source": [
    "#Write your code here to find the top 30 trigram frequency among the complaints in the cleaned datafram(df_clean). \n",
    "def get_top_trigrams(df_clean, n=30):\n",
    "    complaints_tokens = [nltk.word_tokenize(complaint.lower()) for complaint in df_clean['complaints']]\n",
    "    trigram_finder = TrigramCollocationFinder.from_documents(complaints_tokens)\n",
    "    trigram_freq = trigram_finder.ngram_fd.items()\n",
    "    sorted_trigrams = sorted(trigram_freq, key=lambda item: item[1], reverse=True)\n",
    "    top_n_trigrams = sorted_trigrams[:n]\n",
    "    df_top_trigrams = pd.DataFrame(top_n_trigrams, columns=['trigram', 'frequency'])\n",
    "    return df_top_trigrams"
   ]
  },
  {
   "cell_type": "code",
   "execution_count": 28,
   "metadata": {},
   "outputs": [
    {
     "name": "stdout",
     "output_type": "stream",
     "text": [
      "              trigram  frequency\n",
      "0  (xxxx, xxxx, xxxx)      21452\n",
      "1     (xxxx, xxxx, ,)       9187\n",
      "2        (., i, have)       7749\n",
      "3          (of, {, $)       5631\n",
      "4         (., i, was)       5436\n",
      "5     (xxxx, ,, xxxx)       5367\n",
      "6     (xxxx, xxxx, .)       4307\n",
      "7      (., i, called)       3775\n",
      "8          (., i, am)       3672\n",
      "9     (,, xxxx, xxxx)       3656\n"
     ]
    }
   ],
   "source": [
    "#Print the top 10 words in the trigram frequency\n",
    "top_n_trigrams = get_top_trigrams(df_clean, n=10)\n",
    "print(top_n_trigrams)"
   ]
  },
  {
   "cell_type": "code",
   "execution_count": 29,
   "metadata": {
    "execution": {
     "iopub.execute_input": "2022-03-23T03:08:27.936979Z",
     "iopub.status.busy": "2022-03-23T03:08:27.936404Z",
     "iopub.status.idle": "2022-03-23T03:08:27.953801Z",
     "shell.execute_reply": "2022-03-23T03:08:27.952900Z",
     "shell.execute_reply.started": "2022-03-23T03:08:27.936933Z"
    }
   },
   "outputs": [
    {
     "data": {
      "text/html": [
       "<div>\n",
       "<style scoped>\n",
       "    .dataframe tbody tr th:only-of-type {\n",
       "        vertical-align: middle;\n",
       "    }\n",
       "\n",
       "    .dataframe tbody tr th {\n",
       "        vertical-align: top;\n",
       "    }\n",
       "\n",
       "    .dataframe thead th {\n",
       "        text-align: right;\n",
       "    }\n",
       "</style>\n",
       "<table border=\"1\" class=\"dataframe\">\n",
       "  <thead>\n",
       "    <tr style=\"text-align: right;\">\n",
       "      <th></th>\n",
       "      <th>complaints</th>\n",
       "      <th>lemmatized</th>\n",
       "      <th>complaint_POS_removed</th>\n",
       "      <th>Complaint_clean</th>\n",
       "    </tr>\n",
       "  </thead>\n",
       "  <tbody>\n",
       "    <tr>\n",
       "      <th>1</th>\n",
       "      <td>Good morning my name is XXXX XXXX and I apprec...</td>\n",
       "      <td>Good morning my name is XXXX XXXX and I apprec...</td>\n",
       "      <td>morning name stop cardmember service debt veri...</td>\n",
       "      <td>morning name stop cardmember service debt veri...</td>\n",
       "    </tr>\n",
       "    <tr>\n",
       "      <th>2</th>\n",
       "      <td>I upgraded my XXXX XXXX card in XX/XX/2018 and...</td>\n",
       "      <td>I upgraded my XXXX XXXX card in XX/XX/2018 and...</td>\n",
       "      <td>xxxx xxxx card agent anniversary date agent in...</td>\n",
       "      <td>xxxx xxxx card agent anniversary date agent in...</td>\n",
       "    </tr>\n",
       "    <tr>\n",
       "      <th>10</th>\n",
       "      <td>Chase Card was reported on XX/XX/2019. However...</td>\n",
       "      <td>Chase Card wa reported on XX/XX/2019 . However...</td>\n",
       "      <td>application identity consent service credit id...</td>\n",
       "      <td>application identity consent service credit id...</td>\n",
       "    </tr>\n",
       "    <tr>\n",
       "      <th>11</th>\n",
       "      <td>On XX/XX/2018, while trying to book a XXXX  XX...</td>\n",
       "      <td>On XX/XX/2018 , while trying to book a XXXX XX...</td>\n",
       "      <td>xxxx xxxx ticket offer ticket reward card info...</td>\n",
       "      <td>xxxx xxxx ticket offer ticket reward card info...</td>\n",
       "    </tr>\n",
       "    <tr>\n",
       "      <th>14</th>\n",
       "      <td>my grand son give me check for {$1600.00} i de...</td>\n",
       "      <td>my grand son give me check for { $ 1600.00 } i...</td>\n",
       "      <td>son chase account fund chase bank account mone...</td>\n",
       "      <td>son chase account fund chase bank account mone...</td>\n",
       "    </tr>\n",
       "    <tr>\n",
       "      <th>...</th>\n",
       "      <td>...</td>\n",
       "      <td>...</td>\n",
       "      <td>...</td>\n",
       "      <td>...</td>\n",
       "    </tr>\n",
       "    <tr>\n",
       "      <th>78303</th>\n",
       "      <td>After being a Chase Card customer for well ove...</td>\n",
       "      <td>After being a Chase Card customer for well ove...</td>\n",
       "      <td>customer decade solicitation credit card bonus...</td>\n",
       "      <td>customer decade solicitation credit card bonus...</td>\n",
       "    </tr>\n",
       "    <tr>\n",
       "      <th>78309</th>\n",
       "      <td>On Wednesday, XX/XX/XXXX I called Chas, my XXX...</td>\n",
       "      <td>On Wednesday , XX/XX/XXXX I called Chas , my X...</td>\n",
       "      <td>xxxx xxxx provider claim purchase protection b...</td>\n",
       "      <td>xxxx xxxx provider claim purchase protection b...</td>\n",
       "    </tr>\n",
       "    <tr>\n",
       "      <th>78310</th>\n",
       "      <td>I am not familiar with XXXX pay and did not un...</td>\n",
       "      <td>I am not familiar with XXXX pay and did not un...</td>\n",
       "      <td>xxxx pay risk consumer bank app year banking m...</td>\n",
       "      <td>xxxx pay risk consumer bank app year banking m...</td>\n",
       "    </tr>\n",
       "    <tr>\n",
       "      <th>78311</th>\n",
       "      <td>I have had flawless credit for 30 yrs. I've ha...</td>\n",
       "      <td>I have had flawless credit for 30 yr . I 've h...</td>\n",
       "      <td>credit credit card problem balance transfer li...</td>\n",
       "      <td>credit credit card problem balance transfer li...</td>\n",
       "    </tr>\n",
       "    <tr>\n",
       "      <th>78312</th>\n",
       "      <td>Roughly 10+ years ago I closed out my accounts...</td>\n",
       "      <td>Roughly 10+ year ago I closed out my account w...</td>\n",
       "      <td>year account order line credit account payment...</td>\n",
       "      <td>year account order line credit account payment...</td>\n",
       "    </tr>\n",
       "  </tbody>\n",
       "</table>\n",
       "<p>21072 rows × 4 columns</p>\n",
       "</div>"
      ],
      "text/plain": [
       "                                              complaints  \\\n",
       "1      Good morning my name is XXXX XXXX and I apprec...   \n",
       "2      I upgraded my XXXX XXXX card in XX/XX/2018 and...   \n",
       "10     Chase Card was reported on XX/XX/2019. However...   \n",
       "11     On XX/XX/2018, while trying to book a XXXX  XX...   \n",
       "14     my grand son give me check for {$1600.00} i de...   \n",
       "...                                                  ...   \n",
       "78303  After being a Chase Card customer for well ove...   \n",
       "78309  On Wednesday, XX/XX/XXXX I called Chas, my XXX...   \n",
       "78310  I am not familiar with XXXX pay and did not un...   \n",
       "78311  I have had flawless credit for 30 yrs. I've ha...   \n",
       "78312  Roughly 10+ years ago I closed out my accounts...   \n",
       "\n",
       "                                              lemmatized  \\\n",
       "1      Good morning my name is XXXX XXXX and I apprec...   \n",
       "2      I upgraded my XXXX XXXX card in XX/XX/2018 and...   \n",
       "10     Chase Card wa reported on XX/XX/2019 . However...   \n",
       "11     On XX/XX/2018 , while trying to book a XXXX XX...   \n",
       "14     my grand son give me check for { $ 1600.00 } i...   \n",
       "...                                                  ...   \n",
       "78303  After being a Chase Card customer for well ove...   \n",
       "78309  On Wednesday , XX/XX/XXXX I called Chas , my X...   \n",
       "78310  I am not familiar with XXXX pay and did not un...   \n",
       "78311  I have had flawless credit for 30 yr . I 've h...   \n",
       "78312  Roughly 10+ year ago I closed out my account w...   \n",
       "\n",
       "                                   complaint_POS_removed  \\\n",
       "1      morning name stop cardmember service debt veri...   \n",
       "2      xxxx xxxx card agent anniversary date agent in...   \n",
       "10     application identity consent service credit id...   \n",
       "11     xxxx xxxx ticket offer ticket reward card info...   \n",
       "14     son chase account fund chase bank account mone...   \n",
       "...                                                  ...   \n",
       "78303  customer decade solicitation credit card bonus...   \n",
       "78309  xxxx xxxx provider claim purchase protection b...   \n",
       "78310  xxxx pay risk consumer bank app year banking m...   \n",
       "78311  credit credit card problem balance transfer li...   \n",
       "78312  year account order line credit account payment...   \n",
       "\n",
       "                                         Complaint_clean  \n",
       "1      morning name stop cardmember service debt veri...  \n",
       "2      xxxx xxxx card agent anniversary date agent in...  \n",
       "10     application identity consent service credit id...  \n",
       "11     xxxx xxxx ticket offer ticket reward card info...  \n",
       "14     son chase account fund chase bank account mone...  \n",
       "...                                                  ...  \n",
       "78303  customer decade solicitation credit card bonus...  \n",
       "78309  xxxx xxxx provider claim purchase protection b...  \n",
       "78310  xxxx pay risk consumer bank app year banking m...  \n",
       "78311  credit credit card problem balance transfer li...  \n",
       "78312  year account order line credit account payment...  \n",
       "\n",
       "[21072 rows x 4 columns]"
      ]
     },
     "execution_count": 29,
     "metadata": {},
     "output_type": "execute_result"
    }
   ],
   "source": [
    "df_clean"
   ]
  },
  {
   "attachments": {},
   "cell_type": "markdown",
   "metadata": {
    "id": "k-I0k0QtJrGA"
   },
   "source": [
    "## Feature Extraction\n",
    "Convert the raw texts to a matrix of TF-IDF features\n",
    "\n",
    "**max_df** is used for removing terms that appear too frequently, also known as \"corpus-specific stop words\"\n",
    "max_df = 0.95 means \"ignore terms that appear in more than 95% of the complaints\"\n",
    "\n",
    "**min_df** is used for removing terms that appear too infrequently\n",
    "min_df = 2 means \"ignore terms that appear in less than 2 complaints\""
   ]
  },
  {
   "cell_type": "code",
   "execution_count": 30,
   "metadata": {
    "execution": {
     "iopub.execute_input": "2022-03-23T03:08:27.955902Z",
     "iopub.status.busy": "2022-03-23T03:08:27.955047Z",
     "iopub.status.idle": "2022-03-23T03:08:27.966275Z",
     "shell.execute_reply": "2022-03-23T03:08:27.965454Z",
     "shell.execute_reply.started": "2022-03-23T03:08:27.955851Z"
    },
    "id": "Y8fGwaCPJrGA"
   },
   "outputs": [],
   "source": [
    "#Write your code here to initialise the TfidfVectorizer \n",
    "tfidf = TfidfVectorizer(max_df=0.95, min_df=2, stop_words='english')"
   ]
  },
  {
   "attachments": {},
   "cell_type": "markdown",
   "metadata": {
    "id": "yYzD85nTJrGA"
   },
   "source": [
    "#### Create a document term matrix using fit_transform\n",
    "\n",
    "The contents of a document term matrix are tuples of (complaint_id,token_id) tf-idf score:\n",
    "The tuples that are not there have a tf-idf score of 0"
   ]
  },
  {
   "cell_type": "code",
   "execution_count": 31,
   "metadata": {
    "execution": {
     "iopub.execute_input": "2022-03-23T03:08:27.968157Z",
     "iopub.status.busy": "2022-03-23T03:08:27.967860Z",
     "iopub.status.idle": "2022-03-23T03:08:32.233180Z",
     "shell.execute_reply": "2022-03-23T03:08:32.232339Z",
     "shell.execute_reply.started": "2022-03-23T03:08:27.968125Z"
    },
    "id": "ffzdDpp_JrGB"
   },
   "outputs": [],
   "source": [
    "#Write your code here to create the Document Term Matrix by transforming the complaints column present in df_clean.\n",
    "dtm = tfidf.fit_transform(df_clean['complaints'])"
   ]
  },
  {
   "attachments": {},
   "cell_type": "markdown",
   "metadata": {
    "id": "7Q9lwvNEJrGB"
   },
   "source": [
    "## Topic Modelling using NMF\n",
    "\n",
    "Non-Negative Matrix Factorization (NMF) is an unsupervised technique so there are no labeling of topics that the model will be trained on. The way it works is that, NMF decomposes (or factorizes) high-dimensional vectors into a lower-dimensional representation. These lower-dimensional vectors are non-negative which also means their coefficients are non-negative.\n",
    "\n",
    "In this task we will perform the following:\n",
    "\n",
    "* Find the best number of clusters \n",
    "* Apply the best number to create word clusters\n",
    "* Inspect & validate the correction of each cluster wrt the complaints \n",
    "* Correct the labels if needed \n",
    "* Map the clusters to topics/cluster names"
   ]
  },
  {
   "cell_type": "code",
   "execution_count": 32,
   "metadata": {
    "execution": {
     "iopub.execute_input": "2022-03-23T03:08:32.234690Z",
     "iopub.status.busy": "2022-03-23T03:08:32.234432Z",
     "iopub.status.idle": "2022-03-23T03:08:32.264807Z",
     "shell.execute_reply": "2022-03-23T03:08:32.263998Z",
     "shell.execute_reply.started": "2022-03-23T03:08:32.234660Z"
    },
    "id": "amLT4omWJrGB"
   },
   "outputs": [],
   "source": [
    "from sklearn.decomposition import NMF"
   ]
  },
  {
   "attachments": {},
   "cell_type": "markdown",
   "metadata": {
    "id": "0wYR1xUTJrGD"
   },
   "source": [
    "## Manual Topic Modeling\n",
    "We need to do take the trial & error approach to find the best num of topics for your NMF model.\n",
    "\n",
    "The only parameter that is required is the number of components i.e. the number of topics we want. This is the most crucial step in the whole topic modeling process and will greatly affect how good our final topics are."
   ]
  },
  {
   "cell_type": "code",
   "execution_count": 33,
   "metadata": {
    "execution": {
     "iopub.execute_input": "2022-03-23T03:08:32.266809Z",
     "iopub.status.busy": "2022-03-23T03:08:32.265988Z",
     "iopub.status.idle": "2022-03-23T03:08:32.270144Z",
     "shell.execute_reply": "2022-03-23T03:08:32.269609Z",
     "shell.execute_reply.started": "2022-03-23T03:08:32.266765Z"
    },
    "id": "sgd2A6bhJrGD"
   },
   "outputs": [],
   "source": [
    "#Load your nmf_model with the n_components i.e 5\n",
    "num_topics = 5\n",
    "\n",
    "#keep the random_state =40\n",
    "nmf_model = NMF(random_state=40, n_components=num_topics)"
   ]
  },
  {
   "cell_type": "code",
   "execution_count": 34,
   "metadata": {
    "execution": {
     "iopub.execute_input": "2022-03-23T03:08:32.271327Z",
     "iopub.status.busy": "2022-03-23T03:08:32.271035Z",
     "iopub.status.idle": "2022-03-23T03:08:35.462220Z",
     "shell.execute_reply": "2022-03-23T03:08:35.461045Z",
     "shell.execute_reply.started": "2022-03-23T03:08:32.271301Z"
    },
    "id": "VPMDYbt_JrGE"
   },
   "outputs": [
    {
     "data": {
      "text/plain": [
       "15947"
      ]
     },
     "execution_count": 34,
     "metadata": {},
     "output_type": "execute_result"
    }
   ],
   "source": [
    "nmf_model.fit(dtm)\n",
    "len(tfidf.get_feature_names())"
   ]
  },
  {
   "cell_type": "code",
   "execution_count": 35,
   "metadata": {
    "execution": {
     "iopub.execute_input": "2022-03-23T03:08:35.464625Z",
     "iopub.status.busy": "2022-03-23T03:08:35.463926Z",
     "iopub.status.idle": "2022-03-23T03:08:35.541617Z",
     "shell.execute_reply": "2022-03-23T03:08:35.540775Z",
     "shell.execute_reply.started": "2022-03-23T03:08:35.464576Z"
    },
    "id": "16kRfat5JrGE"
   },
   "outputs": [
    {
     "data": {
      "text/html": [
       "<div>\n",
       "<style scoped>\n",
       "    .dataframe tbody tr th:only-of-type {\n",
       "        vertical-align: middle;\n",
       "    }\n",
       "\n",
       "    .dataframe tbody tr th {\n",
       "        vertical-align: top;\n",
       "    }\n",
       "\n",
       "    .dataframe thead th {\n",
       "        text-align: right;\n",
       "    }\n",
       "</style>\n",
       "<table border=\"1\" class=\"dataframe\">\n",
       "  <thead>\n",
       "    <tr style=\"text-align: right;\">\n",
       "      <th></th>\n",
       "      <th>Word 1</th>\n",
       "      <th>Word 2</th>\n",
       "      <th>Word 3</th>\n",
       "      <th>Word 4</th>\n",
       "      <th>Word 5</th>\n",
       "      <th>Word 6</th>\n",
       "      <th>Word 7</th>\n",
       "      <th>Word 8</th>\n",
       "      <th>Word 9</th>\n",
       "      <th>Word 10</th>\n",
       "      <th>Word 11</th>\n",
       "      <th>Word 12</th>\n",
       "      <th>Word 13</th>\n",
       "      <th>Word 14</th>\n",
       "      <th>Word 15</th>\n",
       "    </tr>\n",
       "  </thead>\n",
       "  <tbody>\n",
       "    <tr>\n",
       "      <th>Topic 1</th>\n",
       "      <td>xxxx</td>\n",
       "      <td>chase</td>\n",
       "      <td>00</td>\n",
       "      <td>number</td>\n",
       "      <td>bank</td>\n",
       "      <td>sent</td>\n",
       "      <td>case</td>\n",
       "      <td>phone</td>\n",
       "      <td>complaint</td>\n",
       "      <td>email</td>\n",
       "      <td>address</td>\n",
       "      <td>information</td>\n",
       "      <td>said</td>\n",
       "      <td>did</td>\n",
       "      <td>dispute</td>\n",
       "    </tr>\n",
       "    <tr>\n",
       "      <th>Topic 2</th>\n",
       "      <td>account</td>\n",
       "      <td>bank</td>\n",
       "      <td>chase</td>\n",
       "      <td>check</td>\n",
       "      <td>money</td>\n",
       "      <td>00</td>\n",
       "      <td>funds</td>\n",
       "      <td>told</td>\n",
       "      <td>checking</td>\n",
       "      <td>closed</td>\n",
       "      <td>deposit</td>\n",
       "      <td>branch</td>\n",
       "      <td>said</td>\n",
       "      <td>called</td>\n",
       "      <td>accounts</td>\n",
       "    </tr>\n",
       "    <tr>\n",
       "      <th>Topic 3</th>\n",
       "      <td>xx</td>\n",
       "      <td>00</td>\n",
       "      <td>2020</td>\n",
       "      <td>2019</td>\n",
       "      <td>2018</td>\n",
       "      <td>dispute</td>\n",
       "      <td>received</td>\n",
       "      <td>chase</td>\n",
       "      <td>xxxx</td>\n",
       "      <td>letter</td>\n",
       "      <td>payment</td>\n",
       "      <td>date</td>\n",
       "      <td>charge</td>\n",
       "      <td>charges</td>\n",
       "      <td>called</td>\n",
       "    </tr>\n",
       "    <tr>\n",
       "      <th>Topic 4</th>\n",
       "      <td>credit</td>\n",
       "      <td>card</td>\n",
       "      <td>chase</td>\n",
       "      <td>report</td>\n",
       "      <td>cards</td>\n",
       "      <td>inquiry</td>\n",
       "      <td>score</td>\n",
       "      <td>reporting</td>\n",
       "      <td>company</td>\n",
       "      <td>charges</td>\n",
       "      <td>charge</td>\n",
       "      <td>did</td>\n",
       "      <td>balance</td>\n",
       "      <td>accounts</td>\n",
       "      <td>information</td>\n",
       "    </tr>\n",
       "    <tr>\n",
       "      <th>Topic 5</th>\n",
       "      <td>loan</td>\n",
       "      <td>payment</td>\n",
       "      <td>mortgage</td>\n",
       "      <td>payments</td>\n",
       "      <td>chase</td>\n",
       "      <td>late</td>\n",
       "      <td>modification</td>\n",
       "      <td>home</td>\n",
       "      <td>pay</td>\n",
       "      <td>paid</td>\n",
       "      <td>time</td>\n",
       "      <td>years</td>\n",
       "      <td>month</td>\n",
       "      <td>rate</td>\n",
       "      <td>property</td>\n",
       "    </tr>\n",
       "  </tbody>\n",
       "</table>\n",
       "</div>"
      ],
      "text/plain": [
       "          Word 1   Word 2    Word 3    Word 4 Word 5   Word 6        Word 7  \\\n",
       "Topic 1     xxxx    chase        00    number   bank     sent          case   \n",
       "Topic 2  account     bank     chase     check  money       00         funds   \n",
       "Topic 3       xx       00      2020      2019   2018  dispute      received   \n",
       "Topic 4   credit     card     chase    report  cards  inquiry         score   \n",
       "Topic 5     loan  payment  mortgage  payments  chase     late  modification   \n",
       "\n",
       "            Word 8     Word 9  Word 10  Word 11      Word 12  Word 13  \\\n",
       "Topic 1      phone  complaint    email  address  information     said   \n",
       "Topic 2       told   checking   closed  deposit       branch     said   \n",
       "Topic 3      chase       xxxx   letter  payment         date   charge   \n",
       "Topic 4  reporting    company  charges   charge          did  balance   \n",
       "Topic 5       home        pay     paid     time        years    month   \n",
       "\n",
       "          Word 14      Word 15  \n",
       "Topic 1       did      dispute  \n",
       "Topic 2    called     accounts  \n",
       "Topic 3   charges       called  \n",
       "Topic 4  accounts  information  \n",
       "Topic 5      rate     property  "
      ]
     },
     "execution_count": 35,
     "metadata": {},
     "output_type": "execute_result"
    }
   ],
   "source": [
    "#Print the Top15 words for each of the topics\n",
    "words = np.array(tfidf.get_feature_names())\n",
    "topic_words_df = pd.DataFrame(np.zeros((num_topics, 15)), index=[f'Topic {i + 1}' for i in range(num_topics)],\n",
    "                           columns=[f'Word {i + 1}' for i in range(15)]).astype(str)\n",
    "\n",
    "for i in range(num_topics):\n",
    "    ix = nmf_model.components_[i].argsort()[::-1][:15]\n",
    "    topic_words_df.iloc[i] = words[ix]\n",
    "\n",
    "topic_words_df"
   ]
  },
  {
   "cell_type": "code",
   "execution_count": 36,
   "metadata": {
    "execution": {
     "iopub.execute_input": "2022-03-23T03:08:35.543920Z",
     "iopub.status.busy": "2022-03-23T03:08:35.543352Z",
     "iopub.status.idle": "2022-03-23T03:08:35.617509Z",
     "shell.execute_reply": "2022-03-23T03:08:35.616806Z",
     "shell.execute_reply.started": "2022-03-23T03:08:35.543875Z"
    },
    "id": "0OIT7LmFJrGF"
   },
   "outputs": [
    {
     "data": {
      "text/plain": [
       "array([0, 2, 3, ..., 1, 4, 4], dtype=int64)"
      ]
     },
     "execution_count": 36,
     "metadata": {},
     "output_type": "execute_result"
    }
   ],
   "source": [
    "#Create the best topic for each complaint in terms of integer value 0,1,2,3 & 4\n",
    "topic_results = nmf_model.transform(dtm)\n",
    "topic_results.argmax(axis=1)"
   ]
  },
  {
   "cell_type": "code",
   "execution_count": 37,
   "metadata": {
    "execution": {
     "iopub.execute_input": "2022-03-23T03:08:35.619239Z",
     "iopub.status.busy": "2022-03-23T03:08:35.618813Z",
     "iopub.status.idle": "2022-03-23T03:08:35.624051Z",
     "shell.execute_reply": "2022-03-23T03:08:35.623437Z",
     "shell.execute_reply.started": "2022-03-23T03:08:35.619209Z"
    },
    "id": "peyYv-ORJrGF"
   },
   "outputs": [],
   "source": [
    "#Assign the best topic to each of the cmplaints in Topic Column\n",
    "\n",
    "df_clean['Topic'] = topic_results.argmax(axis=1)"
   ]
  },
  {
   "cell_type": "code",
   "execution_count": 38,
   "metadata": {
    "execution": {
     "iopub.execute_input": "2022-03-23T03:08:35.625685Z",
     "iopub.status.busy": "2022-03-23T03:08:35.625284Z",
     "iopub.status.idle": "2022-03-23T03:08:35.643422Z",
     "shell.execute_reply": "2022-03-23T03:08:35.642849Z",
     "shell.execute_reply.started": "2022-03-23T03:08:35.625637Z"
    },
    "id": "fLh_Gf3nJrGF"
   },
   "outputs": [
    {
     "data": {
      "text/html": [
       "<div>\n",
       "<style scoped>\n",
       "    .dataframe tbody tr th:only-of-type {\n",
       "        vertical-align: middle;\n",
       "    }\n",
       "\n",
       "    .dataframe tbody tr th {\n",
       "        vertical-align: top;\n",
       "    }\n",
       "\n",
       "    .dataframe thead th {\n",
       "        text-align: right;\n",
       "    }\n",
       "</style>\n",
       "<table border=\"1\" class=\"dataframe\">\n",
       "  <thead>\n",
       "    <tr style=\"text-align: right;\">\n",
       "      <th></th>\n",
       "      <th>complaints</th>\n",
       "      <th>lemmatized</th>\n",
       "      <th>complaint_POS_removed</th>\n",
       "      <th>Complaint_clean</th>\n",
       "      <th>Topic</th>\n",
       "    </tr>\n",
       "  </thead>\n",
       "  <tbody>\n",
       "    <tr>\n",
       "      <th>1</th>\n",
       "      <td>Good morning my name is XXXX XXXX and I apprec...</td>\n",
       "      <td>Good morning my name is XXXX XXXX and I apprec...</td>\n",
       "      <td>morning name stop cardmember service debt veri...</td>\n",
       "      <td>morning name stop cardmember service debt veri...</td>\n",
       "      <td>0</td>\n",
       "    </tr>\n",
       "    <tr>\n",
       "      <th>2</th>\n",
       "      <td>I upgraded my XXXX XXXX card in XX/XX/2018 and...</td>\n",
       "      <td>I upgraded my XXXX XXXX card in XX/XX/2018 and...</td>\n",
       "      <td>xxxx xxxx card agent anniversary date agent in...</td>\n",
       "      <td>xxxx xxxx card agent anniversary date agent in...</td>\n",
       "      <td>2</td>\n",
       "    </tr>\n",
       "    <tr>\n",
       "      <th>10</th>\n",
       "      <td>Chase Card was reported on XX/XX/2019. However...</td>\n",
       "      <td>Chase Card wa reported on XX/XX/2019 . However...</td>\n",
       "      <td>application identity consent service credit id...</td>\n",
       "      <td>application identity consent service credit id...</td>\n",
       "      <td>3</td>\n",
       "    </tr>\n",
       "    <tr>\n",
       "      <th>11</th>\n",
       "      <td>On XX/XX/2018, while trying to book a XXXX  XX...</td>\n",
       "      <td>On XX/XX/2018 , while trying to book a XXXX XX...</td>\n",
       "      <td>xxxx xxxx ticket offer ticket reward card info...</td>\n",
       "      <td>xxxx xxxx ticket offer ticket reward card info...</td>\n",
       "      <td>3</td>\n",
       "    </tr>\n",
       "    <tr>\n",
       "      <th>14</th>\n",
       "      <td>my grand son give me check for {$1600.00} i de...</td>\n",
       "      <td>my grand son give me check for { $ 1600.00 } i...</td>\n",
       "      <td>son chase account fund chase bank account mone...</td>\n",
       "      <td>son chase account fund chase bank account mone...</td>\n",
       "      <td>1</td>\n",
       "    </tr>\n",
       "  </tbody>\n",
       "</table>\n",
       "</div>"
      ],
      "text/plain": [
       "                                           complaints  \\\n",
       "1   Good morning my name is XXXX XXXX and I apprec...   \n",
       "2   I upgraded my XXXX XXXX card in XX/XX/2018 and...   \n",
       "10  Chase Card was reported on XX/XX/2019. However...   \n",
       "11  On XX/XX/2018, while trying to book a XXXX  XX...   \n",
       "14  my grand son give me check for {$1600.00} i de...   \n",
       "\n",
       "                                           lemmatized  \\\n",
       "1   Good morning my name is XXXX XXXX and I apprec...   \n",
       "2   I upgraded my XXXX XXXX card in XX/XX/2018 and...   \n",
       "10  Chase Card wa reported on XX/XX/2019 . However...   \n",
       "11  On XX/XX/2018 , while trying to book a XXXX XX...   \n",
       "14  my grand son give me check for { $ 1600.00 } i...   \n",
       "\n",
       "                                complaint_POS_removed  \\\n",
       "1   morning name stop cardmember service debt veri...   \n",
       "2   xxxx xxxx card agent anniversary date agent in...   \n",
       "10  application identity consent service credit id...   \n",
       "11  xxxx xxxx ticket offer ticket reward card info...   \n",
       "14  son chase account fund chase bank account mone...   \n",
       "\n",
       "                                      Complaint_clean  Topic  \n",
       "1   morning name stop cardmember service debt veri...      0  \n",
       "2   xxxx xxxx card agent anniversary date agent in...      2  \n",
       "10  application identity consent service credit id...      3  \n",
       "11  xxxx xxxx ticket offer ticket reward card info...      3  \n",
       "14  son chase account fund chase bank account mone...      1  "
      ]
     },
     "execution_count": 38,
     "metadata": {},
     "output_type": "execute_result"
    }
   ],
   "source": [
    "df_clean.head()"
   ]
  },
  {
   "cell_type": "code",
   "execution_count": 39,
   "metadata": {
    "execution": {
     "iopub.execute_input": "2022-03-23T03:08:35.645096Z",
     "iopub.status.busy": "2022-03-23T03:08:35.644690Z",
     "iopub.status.idle": "2022-03-23T03:08:35.671967Z",
     "shell.execute_reply": "2022-03-23T03:08:35.671135Z",
     "shell.execute_reply.started": "2022-03-23T03:08:35.645024Z"
    },
    "id": "aQKpufSPJrGG"
   },
   "outputs": [
    {
     "data": {
      "text/html": [
       "<div>\n",
       "<style scoped>\n",
       "    .dataframe tbody tr th:only-of-type {\n",
       "        vertical-align: middle;\n",
       "    }\n",
       "\n",
       "    .dataframe tbody tr th {\n",
       "        vertical-align: top;\n",
       "    }\n",
       "\n",
       "    .dataframe thead th {\n",
       "        text-align: right;\n",
       "    }\n",
       "</style>\n",
       "<table border=\"1\" class=\"dataframe\">\n",
       "  <thead>\n",
       "    <tr style=\"text-align: right;\">\n",
       "      <th></th>\n",
       "      <th>complaints</th>\n",
       "      <th>lemmatized</th>\n",
       "      <th>complaint_POS_removed</th>\n",
       "      <th>Complaint_clean</th>\n",
       "      <th>Topic</th>\n",
       "    </tr>\n",
       "  </thead>\n",
       "  <tbody>\n",
       "    <tr>\n",
       "      <th>1</th>\n",
       "      <td>Good morning my name is XXXX XXXX and I apprec...</td>\n",
       "      <td>Good morning my name is XXXX XXXX and I apprec...</td>\n",
       "      <td>morning name stop cardmember service debt veri...</td>\n",
       "      <td>morning name stop cardmember service debt veri...</td>\n",
       "      <td>0</td>\n",
       "    </tr>\n",
       "    <tr>\n",
       "      <th>93</th>\n",
       "      <td>On XX/XX/2019 we purchased a service with XXXX...</td>\n",
       "      <td>On XX/XX/2019 we purchased a service with XXXX...</td>\n",
       "      <td>service xxxx xxxx xxxx xxxx xxxx xxxx xxxx gro...</td>\n",
       "      <td>service xxxx xxxx xxxx xxxx xxxx xxxx xxxx gro...</td>\n",
       "      <td>0</td>\n",
       "    </tr>\n",
       "    <tr>\n",
       "      <th>73</th>\n",
       "      <td>I have wired through one of Chase branches in ...</td>\n",
       "      <td>I have wired through one of Chase branch in XX...</td>\n",
       "      <td>branch order foreclosure proceeding property t...</td>\n",
       "      <td>branch order foreclosure proceeding property t...</td>\n",
       "      <td>0</td>\n",
       "    </tr>\n",
       "    <tr>\n",
       "      <th>48</th>\n",
       "      <td>JP Morgan Chase Bank, please answer the follow...</td>\n",
       "      <td>JP Morgan Chase Bank , please answer the follo...</td>\n",
       "      <td>question information xxxx reason information x...</td>\n",
       "      <td>question information xxxx reason information x...</td>\n",
       "      <td>0</td>\n",
       "    </tr>\n",
       "    <tr>\n",
       "      <th>40</th>\n",
       "      <td>XXXX XXXX a sofa, love seat, table and chairs ...</td>\n",
       "      <td>XXXX XXXX a sofa , love seat , table and chair...</td>\n",
       "      <td>sofa love seat table chair debit card claim fu...</td>\n",
       "      <td>sofa love seat table chair debit card claim fu...</td>\n",
       "      <td>0</td>\n",
       "    </tr>\n",
       "    <tr>\n",
       "      <th>24</th>\n",
       "      <td>mishandling of this account by Chase auto and ...</td>\n",
       "      <td>mishandling of this account by Chase auto and ...</td>\n",
       "      <td>account auto xxxx</td>\n",
       "      <td>account auto xxxx</td>\n",
       "      <td>1</td>\n",
       "    </tr>\n",
       "    <tr>\n",
       "      <th>21</th>\n",
       "      <td>On XXXX XX/XX/2019, I made a {$300.00} payment...</td>\n",
       "      <td>On XXXX XX/XX/2019 , I made a { $ 300.00 } pay...</td>\n",
       "      <td>payment retailer pay xxxx website scam website...</td>\n",
       "      <td>payment retailer pay xxxx website scam website...</td>\n",
       "      <td>1</td>\n",
       "    </tr>\n",
       "    <tr>\n",
       "      <th>27</th>\n",
       "      <td>I opened an account with chase bank on XXXX an...</td>\n",
       "      <td>I opened an account with chase bank on XXXX an...</td>\n",
       "      <td>account bank code bonus term everything accoun...</td>\n",
       "      <td>account bank code bonus term everything accoun...</td>\n",
       "      <td>1</td>\n",
       "    </tr>\n",
       "    <tr>\n",
       "      <th>17</th>\n",
       "      <td>With out notice J.P. Morgan Chase restricted m...</td>\n",
       "      <td>With out notice J.P. Morgan Chase restricted m...</td>\n",
       "      <td>notice account debit card branch customer serv...</td>\n",
       "      <td>notice account debit card branch customer serv...</td>\n",
       "      <td>1</td>\n",
       "    </tr>\n",
       "    <tr>\n",
       "      <th>14</th>\n",
       "      <td>my grand son give me check for {$1600.00} i de...</td>\n",
       "      <td>my grand son give me check for { $ 1600.00 } i...</td>\n",
       "      <td>son chase account fund chase bank account mone...</td>\n",
       "      <td>son chase account fund chase bank account mone...</td>\n",
       "      <td>1</td>\n",
       "    </tr>\n",
       "    <tr>\n",
       "      <th>2</th>\n",
       "      <td>I upgraded my XXXX XXXX card in XX/XX/2018 and...</td>\n",
       "      <td>I upgraded my XXXX XXXX card in XX/XX/2018 and...</td>\n",
       "      <td>xxxx xxxx card agent anniversary date agent in...</td>\n",
       "      <td>xxxx xxxx card agent anniversary date agent in...</td>\n",
       "      <td>2</td>\n",
       "    </tr>\n",
       "    <tr>\n",
       "      <th>58</th>\n",
       "      <td>I made a purchase of {$260.00} on XX/XX/XXXX. ...</td>\n",
       "      <td>I made a purchase of { $ 260.00 } on XX/XX/XXX...</td>\n",
       "      <td>purchase payment xxxx payment closing date sta...</td>\n",
       "      <td>purchase payment xxxx payment closing date sta...</td>\n",
       "      <td>2</td>\n",
       "    </tr>\n",
       "    <tr>\n",
       "      <th>52</th>\n",
       "      <td>My roommate was stealing my Chase debit card a...</td>\n",
       "      <td>My roommate wa stealing my Chase debit card an...</td>\n",
       "      <td>roommate debit card driver license money accou...</td>\n",
       "      <td>roommate debit card driver license money accou...</td>\n",
       "      <td>2</td>\n",
       "    </tr>\n",
       "    <tr>\n",
       "      <th>35</th>\n",
       "      <td>I opened the saving account for the {$25.00} b...</td>\n",
       "      <td>I opened the saving account for the { $ 25.00 ...</td>\n",
       "      <td>account bonus bonus auto transfer transfer fun...</td>\n",
       "      <td>account bonus bonus auto transfer transfer fun...</td>\n",
       "      <td>2</td>\n",
       "    </tr>\n",
       "    <tr>\n",
       "      <th>45</th>\n",
       "      <td>I made a purchase with XXXX XXXX XXXX on XX/XX...</td>\n",
       "      <td>I made a purchase with XXXX XXXX XXXX on XX/XX...</td>\n",
       "      <td>purchase xxxx xxxx amount transaction dispute ...</td>\n",
       "      <td>purchase xxxx xxxx amount transaction dispute ...</td>\n",
       "      <td>2</td>\n",
       "    </tr>\n",
       "    <tr>\n",
       "      <th>10</th>\n",
       "      <td>Chase Card was reported on XX/XX/2019. However...</td>\n",
       "      <td>Chase Card wa reported on XX/XX/2019 . However...</td>\n",
       "      <td>application identity consent service credit id...</td>\n",
       "      <td>application identity consent service credit id...</td>\n",
       "      <td>3</td>\n",
       "    </tr>\n",
       "    <tr>\n",
       "      <th>11</th>\n",
       "      <td>On XX/XX/2018, while trying to book a XXXX  XX...</td>\n",
       "      <td>On XX/XX/2018 , while trying to book a XXXX XX...</td>\n",
       "      <td>xxxx xxxx ticket offer ticket reward card info...</td>\n",
       "      <td>xxxx xxxx ticket offer ticket reward card info...</td>\n",
       "      <td>3</td>\n",
       "    </tr>\n",
       "    <tr>\n",
       "      <th>26</th>\n",
       "      <td>I have reached out to XXXX several times in at...</td>\n",
       "      <td>I have reached out to XXXX several time in att...</td>\n",
       "      <td>time attempt inquiry creditor inquiry report a...</td>\n",
       "      <td>time attempt inquiry creditor inquiry report a...</td>\n",
       "      <td>3</td>\n",
       "    </tr>\n",
       "    <tr>\n",
       "      <th>15</th>\n",
       "      <td>Can you please remove inquiry</td>\n",
       "      <td>Can you please remove inquiry</td>\n",
       "      <td>inquiry</td>\n",
       "      <td>inquiry</td>\n",
       "      <td>3</td>\n",
       "    </tr>\n",
       "    <tr>\n",
       "      <th>23</th>\n",
       "      <td>I have a Chase credit card which is incorrectl...</td>\n",
       "      <td>I have a Chase credit card which is incorrectl...</td>\n",
       "      <td>credit card credit report company issue</td>\n",
       "      <td>credit card credit report company issue</td>\n",
       "      <td>3</td>\n",
       "    </tr>\n",
       "    <tr>\n",
       "      <th>99</th>\n",
       "      <td>My name is XXXX XXXX. I have missed a payment ...</td>\n",
       "      <td>My name is XXXX XXXX . I have missed a payment...</td>\n",
       "      <td>name payment day past time loan modification l...</td>\n",
       "      <td>name payment day past time loan modification l...</td>\n",
       "      <td>4</td>\n",
       "    </tr>\n",
       "    <tr>\n",
       "      <th>57</th>\n",
       "      <td>I have been trying to do a loan modification w...</td>\n",
       "      <td>I have been trying to do a loan modification w...</td>\n",
       "      <td>loan modification mo payment doc</td>\n",
       "      <td>loan modification mo payment doc</td>\n",
       "      <td>4</td>\n",
       "    </tr>\n",
       "    <tr>\n",
       "      <th>82</th>\n",
       "      <td>I recently called to ask Chase bank why they r...</td>\n",
       "      <td>I recently called to ask Chase bank why they r...</td>\n",
       "      <td>bank credit day payment info xxxx bill balance...</td>\n",
       "      <td>bank credit day payment info xxxx bill balance...</td>\n",
       "      <td>4</td>\n",
       "    </tr>\n",
       "    <tr>\n",
       "      <th>20</th>\n",
       "      <td>During the summer months, I experience a decli...</td>\n",
       "      <td>During the summer month , I experience a decli...</td>\n",
       "      <td>summer month decline income employment month p...</td>\n",
       "      <td>summer month decline income employment month p...</td>\n",
       "      <td>4</td>\n",
       "    </tr>\n",
       "    <tr>\n",
       "      <th>127</th>\n",
       "      <td>I am XXXX military member ( XXXX ) with the XX...</td>\n",
       "      <td>I am XXXX military member ( XXXX ) with the XX...</td>\n",
       "      <td>member insurance waiver coverage time financin...</td>\n",
       "      <td>member insurance waiver coverage time financin...</td>\n",
       "      <td>4</td>\n",
       "    </tr>\n",
       "  </tbody>\n",
       "</table>\n",
       "</div>"
      ],
      "text/plain": [
       "                                            complaints  \\\n",
       "1    Good morning my name is XXXX XXXX and I apprec...   \n",
       "93   On XX/XX/2019 we purchased a service with XXXX...   \n",
       "73   I have wired through one of Chase branches in ...   \n",
       "48   JP Morgan Chase Bank, please answer the follow...   \n",
       "40   XXXX XXXX a sofa, love seat, table and chairs ...   \n",
       "24   mishandling of this account by Chase auto and ...   \n",
       "21   On XXXX XX/XX/2019, I made a {$300.00} payment...   \n",
       "27   I opened an account with chase bank on XXXX an...   \n",
       "17   With out notice J.P. Morgan Chase restricted m...   \n",
       "14   my grand son give me check for {$1600.00} i de...   \n",
       "2    I upgraded my XXXX XXXX card in XX/XX/2018 and...   \n",
       "58   I made a purchase of {$260.00} on XX/XX/XXXX. ...   \n",
       "52   My roommate was stealing my Chase debit card a...   \n",
       "35   I opened the saving account for the {$25.00} b...   \n",
       "45   I made a purchase with XXXX XXXX XXXX on XX/XX...   \n",
       "10   Chase Card was reported on XX/XX/2019. However...   \n",
       "11   On XX/XX/2018, while trying to book a XXXX  XX...   \n",
       "26   I have reached out to XXXX several times in at...   \n",
       "15                       Can you please remove inquiry   \n",
       "23   I have a Chase credit card which is incorrectl...   \n",
       "99   My name is XXXX XXXX. I have missed a payment ...   \n",
       "57   I have been trying to do a loan modification w...   \n",
       "82   I recently called to ask Chase bank why they r...   \n",
       "20   During the summer months, I experience a decli...   \n",
       "127  I am XXXX military member ( XXXX ) with the XX...   \n",
       "\n",
       "                                            lemmatized  \\\n",
       "1    Good morning my name is XXXX XXXX and I apprec...   \n",
       "93   On XX/XX/2019 we purchased a service with XXXX...   \n",
       "73   I have wired through one of Chase branch in XX...   \n",
       "48   JP Morgan Chase Bank , please answer the follo...   \n",
       "40   XXXX XXXX a sofa , love seat , table and chair...   \n",
       "24   mishandling of this account by Chase auto and ...   \n",
       "21   On XXXX XX/XX/2019 , I made a { $ 300.00 } pay...   \n",
       "27   I opened an account with chase bank on XXXX an...   \n",
       "17   With out notice J.P. Morgan Chase restricted m...   \n",
       "14   my grand son give me check for { $ 1600.00 } i...   \n",
       "2    I upgraded my XXXX XXXX card in XX/XX/2018 and...   \n",
       "58   I made a purchase of { $ 260.00 } on XX/XX/XXX...   \n",
       "52   My roommate wa stealing my Chase debit card an...   \n",
       "35   I opened the saving account for the { $ 25.00 ...   \n",
       "45   I made a purchase with XXXX XXXX XXXX on XX/XX...   \n",
       "10   Chase Card wa reported on XX/XX/2019 . However...   \n",
       "11   On XX/XX/2018 , while trying to book a XXXX XX...   \n",
       "26   I have reached out to XXXX several time in att...   \n",
       "15                       Can you please remove inquiry   \n",
       "23   I have a Chase credit card which is incorrectl...   \n",
       "99   My name is XXXX XXXX . I have missed a payment...   \n",
       "57   I have been trying to do a loan modification w...   \n",
       "82   I recently called to ask Chase bank why they r...   \n",
       "20   During the summer month , I experience a decli...   \n",
       "127  I am XXXX military member ( XXXX ) with the XX...   \n",
       "\n",
       "                                 complaint_POS_removed  \\\n",
       "1    morning name stop cardmember service debt veri...   \n",
       "93   service xxxx xxxx xxxx xxxx xxxx xxxx xxxx gro...   \n",
       "73   branch order foreclosure proceeding property t...   \n",
       "48   question information xxxx reason information x...   \n",
       "40   sofa love seat table chair debit card claim fu...   \n",
       "24                                   account auto xxxx   \n",
       "21   payment retailer pay xxxx website scam website...   \n",
       "27   account bank code bonus term everything accoun...   \n",
       "17   notice account debit card branch customer serv...   \n",
       "14   son chase account fund chase bank account mone...   \n",
       "2    xxxx xxxx card agent anniversary date agent in...   \n",
       "58   purchase payment xxxx payment closing date sta...   \n",
       "52   roommate debit card driver license money accou...   \n",
       "35   account bonus bonus auto transfer transfer fun...   \n",
       "45   purchase xxxx xxxx amount transaction dispute ...   \n",
       "10   application identity consent service credit id...   \n",
       "11   xxxx xxxx ticket offer ticket reward card info...   \n",
       "26   time attempt inquiry creditor inquiry report a...   \n",
       "15                                             inquiry   \n",
       "23             credit card credit report company issue   \n",
       "99   name payment day past time loan modification l...   \n",
       "57                    loan modification mo payment doc   \n",
       "82   bank credit day payment info xxxx bill balance...   \n",
       "20   summer month decline income employment month p...   \n",
       "127  member insurance waiver coverage time financin...   \n",
       "\n",
       "                                       Complaint_clean  Topic  \n",
       "1    morning name stop cardmember service debt veri...      0  \n",
       "93   service xxxx xxxx xxxx xxxx xxxx xxxx xxxx gro...      0  \n",
       "73   branch order foreclosure proceeding property t...      0  \n",
       "48   question information xxxx reason information x...      0  \n",
       "40   sofa love seat table chair debit card claim fu...      0  \n",
       "24                                   account auto xxxx      1  \n",
       "21   payment retailer pay xxxx website scam website...      1  \n",
       "27   account bank code bonus term everything accoun...      1  \n",
       "17   notice account debit card branch customer serv...      1  \n",
       "14   son chase account fund chase bank account mone...      1  \n",
       "2    xxxx xxxx card agent anniversary date agent in...      2  \n",
       "58   purchase payment xxxx payment closing date sta...      2  \n",
       "52   roommate debit card driver license money accou...      2  \n",
       "35   account bonus bonus auto transfer transfer fun...      2  \n",
       "45   purchase xxxx xxxx amount transaction dispute ...      2  \n",
       "10   application identity consent service credit id...      3  \n",
       "11   xxxx xxxx ticket offer ticket reward card info...      3  \n",
       "26   time attempt inquiry creditor inquiry report a...      3  \n",
       "15                                             inquiry      3  \n",
       "23             credit card credit report company issue      3  \n",
       "99   name payment day past time loan modification l...      4  \n",
       "57                    loan modification mo payment doc      4  \n",
       "82   bank credit day payment info xxxx bill balance...      4  \n",
       "20   summer month decline income employment month p...      4  \n",
       "127  member insurance waiver coverage time financin...      4  "
      ]
     },
     "execution_count": 39,
     "metadata": {},
     "output_type": "execute_result"
    }
   ],
   "source": [
    "# Print the first 5 Complaint for each of the Topics\n",
    "First5_comp=df_clean.groupby('Topic').head(5)\n",
    "First5_comp.sort_values('Topic')"
   ]
  },
  {
   "attachments": {},
   "cell_type": "markdown",
   "metadata": {
    "id": "piyLxzj6v07j"
   },
   "source": [
    "#### After evaluating the mapping, if the topics assigned are correct then assign these names to the relevant topic:\n",
    "* Bank Account services\n",
    "* Credit card or prepaid card\n",
    "* Theft/Dispute Reporting\n",
    "* Mortgage/Loan\n",
    "* Others"
   ]
  },
  {
   "cell_type": "code",
   "execution_count": 40,
   "metadata": {
    "execution": {
     "iopub.execute_input": "2022-03-23T03:08:35.673872Z",
     "iopub.status.busy": "2022-03-23T03:08:35.673474Z",
     "iopub.status.idle": "2022-03-23T03:08:35.682153Z",
     "shell.execute_reply": "2022-03-23T03:08:35.680952Z",
     "shell.execute_reply.started": "2022-03-23T03:08:35.673824Z"
    },
    "id": "TWpwDG4RJrGG"
   },
   "outputs": [],
   "source": [
    "# Create the dictionary of Topic names and Topics\n",
    "Topic_names = {0:'Account Services', 1:'Others', 2:'Mortgage/Loan', 3:'Credit card or prepaid card', 4:'Theft/Dispute Reporting'}\n",
    "\n",
    "# Replace Topics with Topic Names\n",
    "df_clean['Topic'] = df_clean['Topic'].map(Topic_names)"
   ]
  },
  {
   "cell_type": "code",
   "execution_count": 41,
   "metadata": {
    "execution": {
     "iopub.execute_input": "2022-03-23T03:08:35.684505Z",
     "iopub.status.busy": "2022-03-23T03:08:35.683735Z",
     "iopub.status.idle": "2022-03-23T03:08:35.702860Z",
     "shell.execute_reply": "2022-03-23T03:08:35.702067Z",
     "shell.execute_reply.started": "2022-03-23T03:08:35.684459Z"
    },
    "id": "-2ULY5K6JrGG"
   },
   "outputs": [
    {
     "data": {
      "text/html": [
       "<div>\n",
       "<style scoped>\n",
       "    .dataframe tbody tr th:only-of-type {\n",
       "        vertical-align: middle;\n",
       "    }\n",
       "\n",
       "    .dataframe tbody tr th {\n",
       "        vertical-align: top;\n",
       "    }\n",
       "\n",
       "    .dataframe thead th {\n",
       "        text-align: right;\n",
       "    }\n",
       "</style>\n",
       "<table border=\"1\" class=\"dataframe\">\n",
       "  <thead>\n",
       "    <tr style=\"text-align: right;\">\n",
       "      <th></th>\n",
       "      <th>complaints</th>\n",
       "      <th>lemmatized</th>\n",
       "      <th>complaint_POS_removed</th>\n",
       "      <th>Complaint_clean</th>\n",
       "      <th>Topic</th>\n",
       "    </tr>\n",
       "  </thead>\n",
       "  <tbody>\n",
       "    <tr>\n",
       "      <th>1</th>\n",
       "      <td>Good morning my name is XXXX XXXX and I apprec...</td>\n",
       "      <td>Good morning my name is XXXX XXXX and I apprec...</td>\n",
       "      <td>morning name stop cardmember service debt veri...</td>\n",
       "      <td>morning name stop cardmember service debt veri...</td>\n",
       "      <td>Account Services</td>\n",
       "    </tr>\n",
       "    <tr>\n",
       "      <th>2</th>\n",
       "      <td>I upgraded my XXXX XXXX card in XX/XX/2018 and...</td>\n",
       "      <td>I upgraded my XXXX XXXX card in XX/XX/2018 and...</td>\n",
       "      <td>xxxx xxxx card agent anniversary date agent in...</td>\n",
       "      <td>xxxx xxxx card agent anniversary date agent in...</td>\n",
       "      <td>Mortgage/Loan</td>\n",
       "    </tr>\n",
       "    <tr>\n",
       "      <th>10</th>\n",
       "      <td>Chase Card was reported on XX/XX/2019. However...</td>\n",
       "      <td>Chase Card wa reported on XX/XX/2019 . However...</td>\n",
       "      <td>application identity consent service credit id...</td>\n",
       "      <td>application identity consent service credit id...</td>\n",
       "      <td>Credit card or prepaid card</td>\n",
       "    </tr>\n",
       "    <tr>\n",
       "      <th>11</th>\n",
       "      <td>On XX/XX/2018, while trying to book a XXXX  XX...</td>\n",
       "      <td>On XX/XX/2018 , while trying to book a XXXX XX...</td>\n",
       "      <td>xxxx xxxx ticket offer ticket reward card info...</td>\n",
       "      <td>xxxx xxxx ticket offer ticket reward card info...</td>\n",
       "      <td>Credit card or prepaid card</td>\n",
       "    </tr>\n",
       "    <tr>\n",
       "      <th>14</th>\n",
       "      <td>my grand son give me check for {$1600.00} i de...</td>\n",
       "      <td>my grand son give me check for { $ 1600.00 } i...</td>\n",
       "      <td>son chase account fund chase bank account mone...</td>\n",
       "      <td>son chase account fund chase bank account mone...</td>\n",
       "      <td>Others</td>\n",
       "    </tr>\n",
       "    <tr>\n",
       "      <th>...</th>\n",
       "      <td>...</td>\n",
       "      <td>...</td>\n",
       "      <td>...</td>\n",
       "      <td>...</td>\n",
       "      <td>...</td>\n",
       "    </tr>\n",
       "    <tr>\n",
       "      <th>78303</th>\n",
       "      <td>After being a Chase Card customer for well ove...</td>\n",
       "      <td>After being a Chase Card customer for well ove...</td>\n",
       "      <td>customer decade solicitation credit card bonus...</td>\n",
       "      <td>customer decade solicitation credit card bonus...</td>\n",
       "      <td>Credit card or prepaid card</td>\n",
       "    </tr>\n",
       "    <tr>\n",
       "      <th>78309</th>\n",
       "      <td>On Wednesday, XX/XX/XXXX I called Chas, my XXX...</td>\n",
       "      <td>On Wednesday , XX/XX/XXXX I called Chas , my X...</td>\n",
       "      <td>xxxx xxxx provider claim purchase protection b...</td>\n",
       "      <td>xxxx xxxx provider claim purchase protection b...</td>\n",
       "      <td>Others</td>\n",
       "    </tr>\n",
       "    <tr>\n",
       "      <th>78310</th>\n",
       "      <td>I am not familiar with XXXX pay and did not un...</td>\n",
       "      <td>I am not familiar with XXXX pay and did not un...</td>\n",
       "      <td>xxxx pay risk consumer bank app year banking m...</td>\n",
       "      <td>xxxx pay risk consumer bank app year banking m...</td>\n",
       "      <td>Others</td>\n",
       "    </tr>\n",
       "    <tr>\n",
       "      <th>78311</th>\n",
       "      <td>I have had flawless credit for 30 yrs. I've ha...</td>\n",
       "      <td>I have had flawless credit for 30 yr . I 've h...</td>\n",
       "      <td>credit credit card problem balance transfer li...</td>\n",
       "      <td>credit credit card problem balance transfer li...</td>\n",
       "      <td>Theft/Dispute Reporting</td>\n",
       "    </tr>\n",
       "    <tr>\n",
       "      <th>78312</th>\n",
       "      <td>Roughly 10+ years ago I closed out my accounts...</td>\n",
       "      <td>Roughly 10+ year ago I closed out my account w...</td>\n",
       "      <td>year account order line credit account payment...</td>\n",
       "      <td>year account order line credit account payment...</td>\n",
       "      <td>Theft/Dispute Reporting</td>\n",
       "    </tr>\n",
       "  </tbody>\n",
       "</table>\n",
       "<p>21072 rows × 5 columns</p>\n",
       "</div>"
      ],
      "text/plain": [
       "                                              complaints  \\\n",
       "1      Good morning my name is XXXX XXXX and I apprec...   \n",
       "2      I upgraded my XXXX XXXX card in XX/XX/2018 and...   \n",
       "10     Chase Card was reported on XX/XX/2019. However...   \n",
       "11     On XX/XX/2018, while trying to book a XXXX  XX...   \n",
       "14     my grand son give me check for {$1600.00} i de...   \n",
       "...                                                  ...   \n",
       "78303  After being a Chase Card customer for well ove...   \n",
       "78309  On Wednesday, XX/XX/XXXX I called Chas, my XXX...   \n",
       "78310  I am not familiar with XXXX pay and did not un...   \n",
       "78311  I have had flawless credit for 30 yrs. I've ha...   \n",
       "78312  Roughly 10+ years ago I closed out my accounts...   \n",
       "\n",
       "                                              lemmatized  \\\n",
       "1      Good morning my name is XXXX XXXX and I apprec...   \n",
       "2      I upgraded my XXXX XXXX card in XX/XX/2018 and...   \n",
       "10     Chase Card wa reported on XX/XX/2019 . However...   \n",
       "11     On XX/XX/2018 , while trying to book a XXXX XX...   \n",
       "14     my grand son give me check for { $ 1600.00 } i...   \n",
       "...                                                  ...   \n",
       "78303  After being a Chase Card customer for well ove...   \n",
       "78309  On Wednesday , XX/XX/XXXX I called Chas , my X...   \n",
       "78310  I am not familiar with XXXX pay and did not un...   \n",
       "78311  I have had flawless credit for 30 yr . I 've h...   \n",
       "78312  Roughly 10+ year ago I closed out my account w...   \n",
       "\n",
       "                                   complaint_POS_removed  \\\n",
       "1      morning name stop cardmember service debt veri...   \n",
       "2      xxxx xxxx card agent anniversary date agent in...   \n",
       "10     application identity consent service credit id...   \n",
       "11     xxxx xxxx ticket offer ticket reward card info...   \n",
       "14     son chase account fund chase bank account mone...   \n",
       "...                                                  ...   \n",
       "78303  customer decade solicitation credit card bonus...   \n",
       "78309  xxxx xxxx provider claim purchase protection b...   \n",
       "78310  xxxx pay risk consumer bank app year banking m...   \n",
       "78311  credit credit card problem balance transfer li...   \n",
       "78312  year account order line credit account payment...   \n",
       "\n",
       "                                         Complaint_clean  \\\n",
       "1      morning name stop cardmember service debt veri...   \n",
       "2      xxxx xxxx card agent anniversary date agent in...   \n",
       "10     application identity consent service credit id...   \n",
       "11     xxxx xxxx ticket offer ticket reward card info...   \n",
       "14     son chase account fund chase bank account mone...   \n",
       "...                                                  ...   \n",
       "78303  customer decade solicitation credit card bonus...   \n",
       "78309  xxxx xxxx provider claim purchase protection b...   \n",
       "78310  xxxx pay risk consumer bank app year banking m...   \n",
       "78311  credit credit card problem balance transfer li...   \n",
       "78312  year account order line credit account payment...   \n",
       "\n",
       "                             Topic  \n",
       "1                 Account Services  \n",
       "2                    Mortgage/Loan  \n",
       "10     Credit card or prepaid card  \n",
       "11     Credit card or prepaid card  \n",
       "14                          Others  \n",
       "...                            ...  \n",
       "78303  Credit card or prepaid card  \n",
       "78309                       Others  \n",
       "78310                       Others  \n",
       "78311      Theft/Dispute Reporting  \n",
       "78312      Theft/Dispute Reporting  \n",
       "\n",
       "[21072 rows x 5 columns]"
      ]
     },
     "execution_count": 41,
     "metadata": {},
     "output_type": "execute_result"
    }
   ],
   "source": [
    "df_clean"
   ]
  },
  {
   "attachments": {},
   "cell_type": "markdown",
   "metadata": {
    "id": "7Mu0QBOcJrGH"
   },
   "source": [
    "## Supervised model to predict any new complaints to the relevant Topics.\n",
    "\n",
    "We have built a model to create the topics for each complaints.Now in the below section we will use them to classify any new complaints.\n",
    "\n",
    "*Since we will be using supervised learning technique we have to convert the topic names to numbers(numpy arrays only understand numbers)*"
   ]
  },
  {
   "cell_type": "code",
   "execution_count": 42,
   "metadata": {
    "execution": {
     "iopub.execute_input": "2022-03-23T03:08:35.707445Z",
     "iopub.status.busy": "2022-03-23T03:08:35.707198Z",
     "iopub.status.idle": "2022-03-23T03:08:35.715831Z",
     "shell.execute_reply": "2022-03-23T03:08:35.715231Z",
     "shell.execute_reply.started": "2022-03-23T03:08:35.707414Z"
    },
    "id": "_U8J3J8wJrGH"
   },
   "outputs": [],
   "source": [
    "# Create the dictionary again of Topic names and Topics\n",
    "\n",
    "Topic_names = {'Account Services':0, 'Others':1, 'Mortgage/Loan':2, 'Credit card or prepaid card':3, 'Theft/Dispute Reporting':4}\n",
    "# Replace Topics with Topic Names\n",
    "df_clean['Topic'] = df_clean['Topic'].map(Topic_names)"
   ]
  },
  {
   "cell_type": "code",
   "execution_count": 43,
   "metadata": {
    "execution": {
     "iopub.execute_input": "2022-03-23T03:08:35.717271Z",
     "iopub.status.busy": "2022-03-23T03:08:35.717055Z",
     "iopub.status.idle": "2022-03-23T03:08:35.740571Z",
     "shell.execute_reply": "2022-03-23T03:08:35.739397Z",
     "shell.execute_reply.started": "2022-03-23T03:08:35.717245Z"
    },
    "id": "BWIgJUkQJrGH"
   },
   "outputs": [
    {
     "data": {
      "text/html": [
       "<div>\n",
       "<style scoped>\n",
       "    .dataframe tbody tr th:only-of-type {\n",
       "        vertical-align: middle;\n",
       "    }\n",
       "\n",
       "    .dataframe tbody tr th {\n",
       "        vertical-align: top;\n",
       "    }\n",
       "\n",
       "    .dataframe thead th {\n",
       "        text-align: right;\n",
       "    }\n",
       "</style>\n",
       "<table border=\"1\" class=\"dataframe\">\n",
       "  <thead>\n",
       "    <tr style=\"text-align: right;\">\n",
       "      <th></th>\n",
       "      <th>complaints</th>\n",
       "      <th>lemmatized</th>\n",
       "      <th>complaint_POS_removed</th>\n",
       "      <th>Complaint_clean</th>\n",
       "      <th>Topic</th>\n",
       "    </tr>\n",
       "  </thead>\n",
       "  <tbody>\n",
       "    <tr>\n",
       "      <th>1</th>\n",
       "      <td>Good morning my name is XXXX XXXX and I apprec...</td>\n",
       "      <td>Good morning my name is XXXX XXXX and I apprec...</td>\n",
       "      <td>morning name stop cardmember service debt veri...</td>\n",
       "      <td>morning name stop cardmember service debt veri...</td>\n",
       "      <td>0</td>\n",
       "    </tr>\n",
       "    <tr>\n",
       "      <th>2</th>\n",
       "      <td>I upgraded my XXXX XXXX card in XX/XX/2018 and...</td>\n",
       "      <td>I upgraded my XXXX XXXX card in XX/XX/2018 and...</td>\n",
       "      <td>xxxx xxxx card agent anniversary date agent in...</td>\n",
       "      <td>xxxx xxxx card agent anniversary date agent in...</td>\n",
       "      <td>2</td>\n",
       "    </tr>\n",
       "    <tr>\n",
       "      <th>10</th>\n",
       "      <td>Chase Card was reported on XX/XX/2019. However...</td>\n",
       "      <td>Chase Card wa reported on XX/XX/2019 . However...</td>\n",
       "      <td>application identity consent service credit id...</td>\n",
       "      <td>application identity consent service credit id...</td>\n",
       "      <td>3</td>\n",
       "    </tr>\n",
       "    <tr>\n",
       "      <th>11</th>\n",
       "      <td>On XX/XX/2018, while trying to book a XXXX  XX...</td>\n",
       "      <td>On XX/XX/2018 , while trying to book a XXXX XX...</td>\n",
       "      <td>xxxx xxxx ticket offer ticket reward card info...</td>\n",
       "      <td>xxxx xxxx ticket offer ticket reward card info...</td>\n",
       "      <td>3</td>\n",
       "    </tr>\n",
       "    <tr>\n",
       "      <th>14</th>\n",
       "      <td>my grand son give me check for {$1600.00} i de...</td>\n",
       "      <td>my grand son give me check for { $ 1600.00 } i...</td>\n",
       "      <td>son chase account fund chase bank account mone...</td>\n",
       "      <td>son chase account fund chase bank account mone...</td>\n",
       "      <td>1</td>\n",
       "    </tr>\n",
       "    <tr>\n",
       "      <th>...</th>\n",
       "      <td>...</td>\n",
       "      <td>...</td>\n",
       "      <td>...</td>\n",
       "      <td>...</td>\n",
       "      <td>...</td>\n",
       "    </tr>\n",
       "    <tr>\n",
       "      <th>78303</th>\n",
       "      <td>After being a Chase Card customer for well ove...</td>\n",
       "      <td>After being a Chase Card customer for well ove...</td>\n",
       "      <td>customer decade solicitation credit card bonus...</td>\n",
       "      <td>customer decade solicitation credit card bonus...</td>\n",
       "      <td>3</td>\n",
       "    </tr>\n",
       "    <tr>\n",
       "      <th>78309</th>\n",
       "      <td>On Wednesday, XX/XX/XXXX I called Chas, my XXX...</td>\n",
       "      <td>On Wednesday , XX/XX/XXXX I called Chas , my X...</td>\n",
       "      <td>xxxx xxxx provider claim purchase protection b...</td>\n",
       "      <td>xxxx xxxx provider claim purchase protection b...</td>\n",
       "      <td>1</td>\n",
       "    </tr>\n",
       "    <tr>\n",
       "      <th>78310</th>\n",
       "      <td>I am not familiar with XXXX pay and did not un...</td>\n",
       "      <td>I am not familiar with XXXX pay and did not un...</td>\n",
       "      <td>xxxx pay risk consumer bank app year banking m...</td>\n",
       "      <td>xxxx pay risk consumer bank app year banking m...</td>\n",
       "      <td>1</td>\n",
       "    </tr>\n",
       "    <tr>\n",
       "      <th>78311</th>\n",
       "      <td>I have had flawless credit for 30 yrs. I've ha...</td>\n",
       "      <td>I have had flawless credit for 30 yr . I 've h...</td>\n",
       "      <td>credit credit card problem balance transfer li...</td>\n",
       "      <td>credit credit card problem balance transfer li...</td>\n",
       "      <td>4</td>\n",
       "    </tr>\n",
       "    <tr>\n",
       "      <th>78312</th>\n",
       "      <td>Roughly 10+ years ago I closed out my accounts...</td>\n",
       "      <td>Roughly 10+ year ago I closed out my account w...</td>\n",
       "      <td>year account order line credit account payment...</td>\n",
       "      <td>year account order line credit account payment...</td>\n",
       "      <td>4</td>\n",
       "    </tr>\n",
       "  </tbody>\n",
       "</table>\n",
       "<p>21072 rows × 5 columns</p>\n",
       "</div>"
      ],
      "text/plain": [
       "                                              complaints  \\\n",
       "1      Good morning my name is XXXX XXXX and I apprec...   \n",
       "2      I upgraded my XXXX XXXX card in XX/XX/2018 and...   \n",
       "10     Chase Card was reported on XX/XX/2019. However...   \n",
       "11     On XX/XX/2018, while trying to book a XXXX  XX...   \n",
       "14     my grand son give me check for {$1600.00} i de...   \n",
       "...                                                  ...   \n",
       "78303  After being a Chase Card customer for well ove...   \n",
       "78309  On Wednesday, XX/XX/XXXX I called Chas, my XXX...   \n",
       "78310  I am not familiar with XXXX pay and did not un...   \n",
       "78311  I have had flawless credit for 30 yrs. I've ha...   \n",
       "78312  Roughly 10+ years ago I closed out my accounts...   \n",
       "\n",
       "                                              lemmatized  \\\n",
       "1      Good morning my name is XXXX XXXX and I apprec...   \n",
       "2      I upgraded my XXXX XXXX card in XX/XX/2018 and...   \n",
       "10     Chase Card wa reported on XX/XX/2019 . However...   \n",
       "11     On XX/XX/2018 , while trying to book a XXXX XX...   \n",
       "14     my grand son give me check for { $ 1600.00 } i...   \n",
       "...                                                  ...   \n",
       "78303  After being a Chase Card customer for well ove...   \n",
       "78309  On Wednesday , XX/XX/XXXX I called Chas , my X...   \n",
       "78310  I am not familiar with XXXX pay and did not un...   \n",
       "78311  I have had flawless credit for 30 yr . I 've h...   \n",
       "78312  Roughly 10+ year ago I closed out my account w...   \n",
       "\n",
       "                                   complaint_POS_removed  \\\n",
       "1      morning name stop cardmember service debt veri...   \n",
       "2      xxxx xxxx card agent anniversary date agent in...   \n",
       "10     application identity consent service credit id...   \n",
       "11     xxxx xxxx ticket offer ticket reward card info...   \n",
       "14     son chase account fund chase bank account mone...   \n",
       "...                                                  ...   \n",
       "78303  customer decade solicitation credit card bonus...   \n",
       "78309  xxxx xxxx provider claim purchase protection b...   \n",
       "78310  xxxx pay risk consumer bank app year banking m...   \n",
       "78311  credit credit card problem balance transfer li...   \n",
       "78312  year account order line credit account payment...   \n",
       "\n",
       "                                         Complaint_clean  Topic  \n",
       "1      morning name stop cardmember service debt veri...      0  \n",
       "2      xxxx xxxx card agent anniversary date agent in...      2  \n",
       "10     application identity consent service credit id...      3  \n",
       "11     xxxx xxxx ticket offer ticket reward card info...      3  \n",
       "14     son chase account fund chase bank account mone...      1  \n",
       "...                                                  ...    ...  \n",
       "78303  customer decade solicitation credit card bonus...      3  \n",
       "78309  xxxx xxxx provider claim purchase protection b...      1  \n",
       "78310  xxxx pay risk consumer bank app year banking m...      1  \n",
       "78311  credit credit card problem balance transfer li...      4  \n",
       "78312  year account order line credit account payment...      4  \n",
       "\n",
       "[21072 rows x 5 columns]"
      ]
     },
     "execution_count": 43,
     "metadata": {},
     "output_type": "execute_result"
    }
   ],
   "source": [
    "df_clean"
   ]
  },
  {
   "cell_type": "code",
   "execution_count": 44,
   "metadata": {
    "execution": {
     "iopub.execute_input": "2022-03-23T03:08:35.742613Z",
     "iopub.status.busy": "2022-03-23T03:08:35.741710Z",
     "iopub.status.idle": "2022-03-23T03:08:35.748933Z",
     "shell.execute_reply": "2022-03-23T03:08:35.748397Z",
     "shell.execute_reply.started": "2022-03-23T03:08:35.742572Z"
    },
    "id": "Xx-FrbkWJrGH"
   },
   "outputs": [],
   "source": [
    "# Keep the columns\"complaint_what_happened\" & \"Topic\" only in the new dataframe --> training_data\n",
    "training_data = df_clean.drop(['lemmatized', 'complaint_POS_removed', 'Complaint_clean'], axis=1)"
   ]
  },
  {
   "cell_type": "code",
   "execution_count": 45,
   "metadata": {
    "execution": {
     "iopub.execute_input": "2022-03-23T03:08:35.750165Z",
     "iopub.status.busy": "2022-03-23T03:08:35.749921Z",
     "iopub.status.idle": "2022-03-23T03:08:35.768170Z",
     "shell.execute_reply": "2022-03-23T03:08:35.767339Z",
     "shell.execute_reply.started": "2022-03-23T03:08:35.750137Z"
    },
    "id": "lVg2pa12JrGI"
   },
   "outputs": [
    {
     "data": {
      "text/html": [
       "<div>\n",
       "<style scoped>\n",
       "    .dataframe tbody tr th:only-of-type {\n",
       "        vertical-align: middle;\n",
       "    }\n",
       "\n",
       "    .dataframe tbody tr th {\n",
       "        vertical-align: top;\n",
       "    }\n",
       "\n",
       "    .dataframe thead th {\n",
       "        text-align: right;\n",
       "    }\n",
       "</style>\n",
       "<table border=\"1\" class=\"dataframe\">\n",
       "  <thead>\n",
       "    <tr style=\"text-align: right;\">\n",
       "      <th></th>\n",
       "      <th>complaints</th>\n",
       "      <th>Topic</th>\n",
       "    </tr>\n",
       "  </thead>\n",
       "  <tbody>\n",
       "    <tr>\n",
       "      <th>1</th>\n",
       "      <td>Good morning my name is XXXX XXXX and I apprec...</td>\n",
       "      <td>0</td>\n",
       "    </tr>\n",
       "    <tr>\n",
       "      <th>2</th>\n",
       "      <td>I upgraded my XXXX XXXX card in XX/XX/2018 and...</td>\n",
       "      <td>2</td>\n",
       "    </tr>\n",
       "    <tr>\n",
       "      <th>10</th>\n",
       "      <td>Chase Card was reported on XX/XX/2019. However...</td>\n",
       "      <td>3</td>\n",
       "    </tr>\n",
       "    <tr>\n",
       "      <th>11</th>\n",
       "      <td>On XX/XX/2018, while trying to book a XXXX  XX...</td>\n",
       "      <td>3</td>\n",
       "    </tr>\n",
       "    <tr>\n",
       "      <th>14</th>\n",
       "      <td>my grand son give me check for {$1600.00} i de...</td>\n",
       "      <td>1</td>\n",
       "    </tr>\n",
       "    <tr>\n",
       "      <th>...</th>\n",
       "      <td>...</td>\n",
       "      <td>...</td>\n",
       "    </tr>\n",
       "    <tr>\n",
       "      <th>78303</th>\n",
       "      <td>After being a Chase Card customer for well ove...</td>\n",
       "      <td>3</td>\n",
       "    </tr>\n",
       "    <tr>\n",
       "      <th>78309</th>\n",
       "      <td>On Wednesday, XX/XX/XXXX I called Chas, my XXX...</td>\n",
       "      <td>1</td>\n",
       "    </tr>\n",
       "    <tr>\n",
       "      <th>78310</th>\n",
       "      <td>I am not familiar with XXXX pay and did not un...</td>\n",
       "      <td>1</td>\n",
       "    </tr>\n",
       "    <tr>\n",
       "      <th>78311</th>\n",
       "      <td>I have had flawless credit for 30 yrs. I've ha...</td>\n",
       "      <td>4</td>\n",
       "    </tr>\n",
       "    <tr>\n",
       "      <th>78312</th>\n",
       "      <td>Roughly 10+ years ago I closed out my accounts...</td>\n",
       "      <td>4</td>\n",
       "    </tr>\n",
       "  </tbody>\n",
       "</table>\n",
       "<p>21072 rows × 2 columns</p>\n",
       "</div>"
      ],
      "text/plain": [
       "                                              complaints  Topic\n",
       "1      Good morning my name is XXXX XXXX and I apprec...      0\n",
       "2      I upgraded my XXXX XXXX card in XX/XX/2018 and...      2\n",
       "10     Chase Card was reported on XX/XX/2019. However...      3\n",
       "11     On XX/XX/2018, while trying to book a XXXX  XX...      3\n",
       "14     my grand son give me check for {$1600.00} i de...      1\n",
       "...                                                  ...    ...\n",
       "78303  After being a Chase Card customer for well ove...      3\n",
       "78309  On Wednesday, XX/XX/XXXX I called Chas, my XXX...      1\n",
       "78310  I am not familiar with XXXX pay and did not un...      1\n",
       "78311  I have had flawless credit for 30 yrs. I've ha...      4\n",
       "78312  Roughly 10+ years ago I closed out my accounts...      4\n",
       "\n",
       "[21072 rows x 2 columns]"
      ]
     },
     "execution_count": 45,
     "metadata": {},
     "output_type": "execute_result"
    }
   ],
   "source": [
    "training_data"
   ]
  },
  {
   "attachments": {},
   "cell_type": "markdown",
   "metadata": {
    "id": "280Vbqk-7a8M"
   },
   "source": [
    "#### Applying the supervised models on the training data created. In this process, we are going to do the following:\n",
    "* Create the vector counts using Count Vectoriser\n",
    "* Transform the word vecotr to tf-idf\n",
    "* Create the train & test data using the train_test_split on the tf-idf & topics\n"
   ]
  },
  {
   "cell_type": "code",
   "execution_count": 46,
   "metadata": {
    "execution": {
     "iopub.execute_input": "2022-03-23T03:08:35.769730Z",
     "iopub.status.busy": "2022-03-23T03:08:35.769419Z",
     "iopub.status.idle": "2022-03-23T03:08:40.779654Z",
     "shell.execute_reply": "2022-03-23T03:08:40.778769Z",
     "shell.execute_reply.started": "2022-03-23T03:08:35.769696Z"
    }
   },
   "outputs": [],
   "source": [
    "# Write your code to get the Vector count\n",
    "count_vect = CountVectorizer()\n",
    "X_train_counts = count_vect.fit_transform(training_data.complaints)\n",
    "\n",
    "# Write your code here to transform the word vector to tf-idf\n",
    "tfidf_transformer = TfidfTransformer()\n",
    "X_train_tfidf = tfidf_transformer.fit_transform(X_train_counts)"
   ]
  },
  {
   "cell_type": "code",
   "execution_count": 47,
   "metadata": {},
   "outputs": [
    {
     "data": {
      "text/plain": [
       "<21072x29725 sparse matrix of type '<class 'numpy.int64'>'\n",
       "\twith 2333942 stored elements in Compressed Sparse Row format>"
      ]
     },
     "execution_count": 47,
     "metadata": {},
     "output_type": "execute_result"
    }
   ],
   "source": [
    "X_train_counts"
   ]
  },
  {
   "attachments": {},
   "cell_type": "markdown",
   "metadata": {
    "id": "uMU3vj6w-wqL"
   },
   "source": [
    "You have to try atleast 3 models on the train & test data from these options:\n",
    "* Logistic regression\n",
    "* Decision Tree\n",
    "* Random Forest\n",
    "* Naive Bayes (optional)\n",
    "\n",
    "**Using the required evaluation metrics judge the tried models and select the ones performing the best**"
   ]
  },
  {
   "cell_type": "code",
   "execution_count": 48,
   "metadata": {
    "execution": {
     "iopub.execute_input": "2022-03-23T03:08:40.782198Z",
     "iopub.status.busy": "2022-03-23T03:08:40.781183Z",
     "iopub.status.idle": "2022-03-23T03:08:40.933622Z",
     "shell.execute_reply": "2022-03-23T03:08:40.932680Z",
     "shell.execute_reply.started": "2022-03-23T03:08:40.782146Z"
    }
   },
   "outputs": [],
   "source": [
    "from sklearn.model_selection import train_test_split\n",
    "from sklearn.linear_model import LogisticRegression\n",
    "from sklearn.tree import DecisionTreeClassifier\n",
    "from sklearn.ensemble import RandomForestClassifier\n",
    "\n",
    "from sklearn.metrics import classification_report"
   ]
  },
  {
   "cell_type": "code",
   "execution_count": 49,
   "metadata": {
    "execution": {
     "iopub.execute_input": "2022-03-23T03:08:40.937671Z",
     "iopub.status.busy": "2022-03-23T03:08:40.937347Z",
     "iopub.status.idle": "2022-03-23T03:08:40.958845Z",
     "shell.execute_reply": "2022-03-23T03:08:40.957663Z",
     "shell.execute_reply.started": "2022-03-23T03:08:40.937634Z"
    }
   },
   "outputs": [],
   "source": [
    "# Split data into train and test\n",
    "X_train, X_test, y_train, y_test = train_test_split(X_train_tfidf, training_data.Topic, test_size=0.2, random_state=42)"
   ]
  },
  {
   "attachments": {},
   "cell_type": "markdown",
   "metadata": {},
   "source": [
    "**1. Logistic Regression**"
   ]
  },
  {
   "cell_type": "code",
   "execution_count": 50,
   "metadata": {
    "execution": {
     "iopub.execute_input": "2022-03-23T03:08:40.961779Z",
     "iopub.status.busy": "2022-03-23T03:08:40.960915Z",
     "iopub.status.idle": "2022-03-23T03:08:53.952849Z",
     "shell.execute_reply": "2022-03-23T03:08:53.951800Z",
     "shell.execute_reply.started": "2022-03-23T03:08:40.961727Z"
    },
    "id": "udLHpPsZJrGI"
   },
   "outputs": [
    {
     "name": "stdout",
     "output_type": "stream",
     "text": [
      "              precision    recall  f1-score   support\n",
      "\n",
      "           0       0.96      0.95      0.95       975\n",
      "           1       0.95      0.96      0.96      1067\n",
      "           2       0.97      0.93      0.95       528\n",
      "           3       0.94      0.97      0.95       985\n",
      "           4       0.96      0.94      0.95       660\n",
      "\n",
      "    accuracy                           0.95      4215\n",
      "   macro avg       0.96      0.95      0.95      4215\n",
      "weighted avg       0.95      0.95      0.95      4215\n",
      "\n"
     ]
    }
   ],
   "source": [
    "# Logistic Regression\n",
    "lr = LogisticRegression().fit(X_train, y_train)\n",
    "predicted = lr.predict(X_test)\n",
    "\n",
    "print(classification_report(y_true=y_test, y_pred=predicted))"
   ]
  },
  {
   "attachments": {},
   "cell_type": "markdown",
   "metadata": {},
   "source": [
    "**2. Decision Tree**"
   ]
  },
  {
   "cell_type": "code",
   "execution_count": 51,
   "metadata": {
    "execution": {
     "iopub.execute_input": "2022-03-23T03:08:53.962057Z",
     "iopub.status.busy": "2022-03-23T03:08:53.958800Z",
     "iopub.status.idle": "2022-03-23T03:09:09.664596Z",
     "shell.execute_reply": "2022-03-23T03:09:09.663653Z",
     "shell.execute_reply.started": "2022-03-23T03:08:53.961984Z"
    },
    "id": "N2OznsObJrGP"
   },
   "outputs": [
    {
     "name": "stdout",
     "output_type": "stream",
     "text": [
      "              precision    recall  f1-score   support\n",
      "\n",
      "           0       0.81      0.83      0.82       975\n",
      "           1       0.77      0.77      0.77      1067\n",
      "           2       0.78      0.81      0.79       528\n",
      "           3       0.81      0.81      0.81       985\n",
      "           4       0.75      0.71      0.73       660\n",
      "\n",
      "    accuracy                           0.79      4215\n",
      "   macro avg       0.79      0.79      0.79      4215\n",
      "weighted avg       0.79      0.79      0.79      4215\n",
      "\n"
     ]
    }
   ],
   "source": [
    "# Decision tree classifier\n",
    "dt = DecisionTreeClassifier().fit(X_train, y_train)\n",
    "predicted = dt.predict(X_test)\n",
    "\n",
    "print(classification_report(y_pred=predicted, y_true=y_test))"
   ]
  },
  {
   "attachments": {},
   "cell_type": "markdown",
   "metadata": {},
   "source": [
    "**3. Random Forest Classifier**"
   ]
  },
  {
   "cell_type": "code",
   "execution_count": 52,
   "metadata": {
    "execution": {
     "iopub.execute_input": "2022-03-23T03:09:09.666770Z",
     "iopub.status.busy": "2022-03-23T03:09:09.666423Z",
     "iopub.status.idle": "2022-03-23T03:09:14.160210Z",
     "shell.execute_reply": "2022-03-23T03:09:14.159145Z",
     "shell.execute_reply.started": "2022-03-23T03:09:09.666727Z"
    }
   },
   "outputs": [
    {
     "name": "stdout",
     "output_type": "stream",
     "text": [
      "              precision    recall  f1-score   support\n",
      "\n",
      "           0       0.58      0.50      0.54       975\n",
      "           1       0.60      0.93      0.73      1067\n",
      "           2       0.86      0.01      0.02       528\n",
      "           3       0.63      0.81      0.71       985\n",
      "           4       0.78      0.52      0.62       660\n",
      "\n",
      "    accuracy                           0.62      4215\n",
      "   macro avg       0.69      0.55      0.52      4215\n",
      "weighted avg       0.66      0.62      0.58      4215\n",
      "\n"
     ]
    }
   ],
   "source": [
    "rfc = RandomForestClassifier(max_depth=10)\n",
    "rfc.fit(X_train, y_train)\n",
    "predicted = rfc.predict(X_test)\n",
    "\n",
    "print(classification_report(y_pred=predicted, y_true=y_test))"
   ]
  },
  {
   "attachments": {},
   "cell_type": "markdown",
   "metadata": {},
   "source": [
    "**Clearly Logistic Regression is performing better**"
   ]
  },
  {
   "attachments": {},
   "cell_type": "markdown",
   "metadata": {},
   "source": [
    "### Infering the best model"
   ]
  },
  {
   "cell_type": "code",
   "execution_count": 53,
   "metadata": {
    "execution": {
     "iopub.execute_input": "2022-03-23T03:09:29.109771Z",
     "iopub.status.busy": "2022-03-23T03:09:29.109460Z",
     "iopub.status.idle": "2022-03-23T03:09:29.120407Z",
     "shell.execute_reply": "2022-03-23T03:09:29.119539Z",
     "shell.execute_reply.started": "2022-03-23T03:09:29.109736Z"
    }
   },
   "outputs": [
    {
     "data": {
      "text/html": [
       "<div>\n",
       "<style scoped>\n",
       "    .dataframe tbody tr th:only-of-type {\n",
       "        vertical-align: middle;\n",
       "    }\n",
       "\n",
       "    .dataframe tbody tr th {\n",
       "        vertical-align: top;\n",
       "    }\n",
       "\n",
       "    .dataframe thead th {\n",
       "        text-align: right;\n",
       "    }\n",
       "</style>\n",
       "<table border=\"1\" class=\"dataframe\">\n",
       "  <thead>\n",
       "    <tr style=\"text-align: right;\">\n",
       "      <th></th>\n",
       "      <th>complaints</th>\n",
       "    </tr>\n",
       "  </thead>\n",
       "  <tbody>\n",
       "    <tr>\n",
       "      <th>0</th>\n",
       "      <td>I can not get from chase who services my mortg...</td>\n",
       "    </tr>\n",
       "    <tr>\n",
       "      <th>1</th>\n",
       "      <td>The bill amount of my credit card was debited ...</td>\n",
       "    </tr>\n",
       "    <tr>\n",
       "      <th>2</th>\n",
       "      <td>I want to open a salary account at your downto...</td>\n",
       "    </tr>\n",
       "    <tr>\n",
       "      <th>3</th>\n",
       "      <td>Yesterday, I received a fraudulent email regar...</td>\n",
       "    </tr>\n",
       "    <tr>\n",
       "      <th>4</th>\n",
       "      <td>What is the procedure to know my CIBIL score?</td>\n",
       "    </tr>\n",
       "    <tr>\n",
       "      <th>5</th>\n",
       "      <td>I need to know the number of bank branches and...</td>\n",
       "    </tr>\n",
       "  </tbody>\n",
       "</table>\n",
       "</div>"
      ],
      "text/plain": [
       "                                          complaints\n",
       "0  I can not get from chase who services my mortg...\n",
       "1  The bill amount of my credit card was debited ...\n",
       "2  I want to open a salary account at your downto...\n",
       "3  Yesterday, I received a fraudulent email regar...\n",
       "4      What is the procedure to know my CIBIL score?\n",
       "5  I need to know the number of bank branches and..."
      ]
     },
     "execution_count": 53,
     "metadata": {},
     "output_type": "execute_result"
    }
   ],
   "source": [
    "# Some sample complaints to infer model\n",
    "\n",
    "df_complaints = pd.DataFrame({'complaints': [\"I can not get from chase who services my mortgage, who owns it and who has original loan docs\", \n",
    "                                  \"The bill amount of my credit card was debited twice. Please look into the matter and resolve at the earliest.\",\n",
    "                                  \"I want to open a salary account at your downtown branch. Please provide me the procedure.\",\n",
    "                                  \"Yesterday, I received a fraudulent email regarding renewal of my services.\",\n",
    "                                  \"What is the procedure to know my CIBIL score?\",\n",
    "                                  \"I need to know the number of bank branches and their locations in the city of Dubai\"]})\n",
    "df_complaints"
   ]
  },
  {
   "cell_type": "code",
   "execution_count": 54,
   "metadata": {
    "execution": {
     "iopub.execute_input": "2022-03-23T03:09:29.150733Z",
     "iopub.status.busy": "2022-03-23T03:09:29.150305Z",
     "iopub.status.idle": "2022-03-23T03:09:29.159783Z",
     "shell.execute_reply": "2022-03-23T03:09:29.158792Z",
     "shell.execute_reply.started": "2022-03-23T03:09:29.150699Z"
    }
   },
   "outputs": [],
   "source": [
    "def predict_lr(text):\n",
    "    Topic_names = {0:'Account Services', 1:'Others', 2:'Mortgage/Loan', 3:'Credit card or prepaid card', 4:'Theft/Dispute Reporting'}\n",
    "    X_new_counts = count_vect.transform(text)\n",
    "    X_new_tfidf = tfidf_transformer.transform(X_new_counts)\n",
    "    predicted = lr.predict(X_new_tfidf)\n",
    "    return Topic_names[predicted[0]]"
   ]
  },
  {
   "cell_type": "code",
   "execution_count": 55,
   "metadata": {
    "execution": {
     "iopub.execute_input": "2022-03-23T03:19:44.166691Z",
     "iopub.status.busy": "2022-03-23T03:19:44.166315Z",
     "iopub.status.idle": "2022-03-23T03:19:44.189879Z",
     "shell.execute_reply": "2022-03-23T03:19:44.189316Z",
     "shell.execute_reply.started": "2022-03-23T03:19:44.166656Z"
    }
   },
   "outputs": [
    {
     "data": {
      "text/html": [
       "<div>\n",
       "<style scoped>\n",
       "    .dataframe tbody tr th:only-of-type {\n",
       "        vertical-align: middle;\n",
       "    }\n",
       "\n",
       "    .dataframe tbody tr th {\n",
       "        vertical-align: top;\n",
       "    }\n",
       "\n",
       "    .dataframe thead th {\n",
       "        text-align: right;\n",
       "    }\n",
       "</style>\n",
       "<table border=\"1\" class=\"dataframe\">\n",
       "  <thead>\n",
       "    <tr style=\"text-align: right;\">\n",
       "      <th></th>\n",
       "      <th>complaints</th>\n",
       "      <th>tag</th>\n",
       "    </tr>\n",
       "  </thead>\n",
       "  <tbody>\n",
       "    <tr>\n",
       "      <th>0</th>\n",
       "      <td>I can not get from chase who services my mortg...</td>\n",
       "      <td>Theft/Dispute Reporting</td>\n",
       "    </tr>\n",
       "    <tr>\n",
       "      <th>1</th>\n",
       "      <td>The bill amount of my credit card was debited ...</td>\n",
       "      <td>Credit card or prepaid card</td>\n",
       "    </tr>\n",
       "    <tr>\n",
       "      <th>2</th>\n",
       "      <td>I want to open a salary account at your downto...</td>\n",
       "      <td>Others</td>\n",
       "    </tr>\n",
       "    <tr>\n",
       "      <th>3</th>\n",
       "      <td>Yesterday, I received a fraudulent email regar...</td>\n",
       "      <td>Credit card or prepaid card</td>\n",
       "    </tr>\n",
       "    <tr>\n",
       "      <th>4</th>\n",
       "      <td>What is the procedure to know my CIBIL score?</td>\n",
       "      <td>Credit card or prepaid card</td>\n",
       "    </tr>\n",
       "    <tr>\n",
       "      <th>5</th>\n",
       "      <td>I need to know the number of bank branches and...</td>\n",
       "      <td>Others</td>\n",
       "    </tr>\n",
       "  </tbody>\n",
       "</table>\n",
       "</div>"
      ],
      "text/plain": [
       "                                          complaints  \\\n",
       "0  I can not get from chase who services my mortg...   \n",
       "1  The bill amount of my credit card was debited ...   \n",
       "2  I want to open a salary account at your downto...   \n",
       "3  Yesterday, I received a fraudulent email regar...   \n",
       "4      What is the procedure to know my CIBIL score?   \n",
       "5  I need to know the number of bank branches and...   \n",
       "\n",
       "                           tag  \n",
       "0      Theft/Dispute Reporting  \n",
       "1  Credit card or prepaid card  \n",
       "2                       Others  \n",
       "3  Credit card or prepaid card  \n",
       "4  Credit card or prepaid card  \n",
       "5                       Others  "
      ]
     },
     "execution_count": 55,
     "metadata": {},
     "output_type": "execute_result"
    }
   ],
   "source": [
    "df_complaints['tag'] = df_complaints['complaints'].apply(lambda x: predict_lr([x]))\n",
    "df_complaints"
   ]
  },
  {
   "attachments": {},
   "cell_type": "markdown",
   "metadata": {},
   "source": [
    "## Conclusion\n",
    "    \n",
    "* **As expected 5 topics were indetified namely:**\n",
    "    1. Account Services\n",
    "    2. Others\n",
    "    3. Mortgage/Loan\n",
    "    4. Credit card or prepaid card\n",
    "    5. Theft/Dispute Reporting\n",
    "    \n",
    "    \n",
    "* **Tried 3 models on the data with accuracies as follows:**\n",
    "\n",
    "    | Model       | Accuracy |\n",
    "    | ----------- | ----------- |\n",
    "    | Logistic Regression      | 0.95       |\n",
    "    | Decision Tree   | 0.79       |\n",
    "    | Random Forest      | 0.62       |\n",
    " \n",
    "    \n",
    " <br /> <br /> <br /> <br /><br /> \n",
    "* **Logistic Regression has highest accuracy of `0.95`, Hence is a good fit for this particular case study.**"
   ]
  },
  {
   "cell_type": "code",
   "execution_count": null,
   "metadata": {},
   "outputs": [],
   "source": []
  }
 ],
 "metadata": {
  "kernelspec": {
   "display_name": "Python 3 (ipykernel)",
   "language": "python",
   "name": "python3"
  },
  "language_info": {
   "codemirror_mode": {
    "name": "ipython",
    "version": 3
   },
   "file_extension": ".py",
   "mimetype": "text/x-python",
   "name": "python",
   "nbconvert_exporter": "python",
   "pygments_lexer": "ipython3",
   "version": "3.9.13"
  }
 },
 "nbformat": 4,
 "nbformat_minor": 4
}
